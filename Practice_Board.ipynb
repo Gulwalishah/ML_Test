{
  "nbformat": 4,
  "nbformat_minor": 0,
  "metadata": {
    "colab": {
      "provenance": [],
      "mount_file_id": "17HUPnCH6iWajpU1ndh9kWbgKiKjTYLGJ",
      "authorship_tag": "ABX9TyOeehcqt0DbzS3HfS/kMask",
      "include_colab_link": true
    },
    "kernelspec": {
      "name": "python3",
      "display_name": "Python 3"
    },
    "language_info": {
      "name": "python"
    }
  },
  "cells": [
    {
      "cell_type": "markdown",
      "metadata": {
        "id": "view-in-github",
        "colab_type": "text"
      },
      "source": [
        "<a href=\"https://colab.research.google.com/github/Gulwalishah/ML_Test/blob/main/Practice_Board.ipynb\" target=\"_parent\"><img src=\"https://colab.research.google.com/assets/colab-badge.svg\" alt=\"Open In Colab\"/></a>"
      ]
    },
    {
      "cell_type": "code",
      "execution_count": null,
      "metadata": {
        "id": "S9H2sstUSxGI"
      },
      "outputs": [],
      "source": []
    },
    {
      "cell_type": "markdown",
      "source": [
        "## If, else statement"
      ],
      "metadata": {
        "id": "0DfgB6mfS4UD"
      }
    },
    {
      "cell_type": "code",
      "source": [
        "from __future__ import print_function\n",
        "x= 0\n",
        "if x>0:\n",
        "  print(\"the number is positive\")\n",
        "elif x==0:\n",
        "    print(\"the number neither positive nor negative\")\n",
        "elif x != 2:\n",
        "      print(\"the number is an odd\")\n",
        "else:\n",
        "    print(\"the number is negative\")"
      ],
      "metadata": {
        "colab": {
          "base_uri": "https://localhost:8080/"
        },
        "id": "G_Wzfwz_UC75",
        "outputId": "9528c3d9-fe25-46e2-85b9-c52a06c2db02"
      },
      "execution_count": null,
      "outputs": [
        {
          "output_type": "stream",
          "name": "stdout",
          "text": [
            "the number neither positive nor negative\n"
          ]
        }
      ]
    },
    {
      "cell_type": "markdown",
      "source": [
        "# Exercise 1: Determine the grade based on the marks obtained."
      ],
      "metadata": {
        "id": "KYNv55hxXRBD"
      }
    },
    {
      "cell_type": "code",
      "source": [
        "marks=65\n",
        "if marks >= 90:\n",
        "  grade =\"A\"\n",
        "else:\n",
        "    if marks >= 80:\n",
        "      grade=\"B\"\n",
        "    else:\n",
        "        if marks >=70:\n",
        "          grade=\"C\"\n",
        "        else:\n",
        "            if marks>=60:\n",
        "              grade=\"D\"\n",
        "            else:\n",
        "                if marks<=59:\n",
        "                  grade=\"F\"\n",
        "print(\"Grade\", grade)"
      ],
      "metadata": {
        "colab": {
          "base_uri": "https://localhost:8080/"
        },
        "id": "wn2rJ9M-XXup",
        "outputId": "dc44bc45-330a-4a57-b4f0-753cb1021d55"
      },
      "execution_count": null,
      "outputs": [
        {
          "output_type": "stream",
          "name": "stdout",
          "text": [
            "Grade D\n"
          ]
        }
      ]
    },
    {
      "cell_type": "code",
      "source": [
        "\n",
        "marks=78\n",
        "if marks >=90:\n",
        " grade=\"A\"\n",
        "else:\n",
        "      if marks  >=80:\n",
        "         grade=\"B\"\n",
        "      else:\n",
        "        if marks >=70:\n",
        "            grade=\"C\"\n",
        "\n",
        "marks=78\n",
        "if marks >=90:\n",
        " grade=\"A\"\n",
        "else:\n",
        "      if marks  >=80:\n",
        "         grade=\"B\"\n",
        "      else:\n",
        "        if marks >=70:\n",
        "            grade=\"C\"\n",
        "\n",
        "Grade C\n",
        "[ ]\n",
        "\n",
        "        else:\n",
        "            if marks <=69:\n",
        "              grade=\"F\"\n",
        "print(\"Grade\", grade)"
      ],
      "metadata": {
        "colab": {
          "base_uri": "https://localhost:8080/"
        },
        "id": "7q5TYhjdbFIx",
        "outputId": "bb38520f-f9c0-44e6-8382-a9f2f2fddecc"
      },
      "execution_count": null,
      "outputs": [
        {
          "output_type": "stream",
          "name": "stdout",
          "text": [
            "Grade C\n"
          ]
        }
      ]
    },
    {
      "cell_type": "markdown",
      "source": [
        "# **Excercise 2:**"
      ],
      "metadata": {
        "id": "bnPynJ4clXng"
      }
    },
    {
      "cell_type": "code",
      "source": [
        "num=-9\n",
        "if num >0:\n",
        "  result=\"the number is positive\"\n",
        "else:\n",
        "    if num <0:\n",
        "               result=\"the number is negative\"\n",
        "    else:\n",
        "              result=\"it is zero\"\n",
        "print(\"Result:\",result)\n"
      ],
      "metadata": {
        "colab": {
          "base_uri": "https://localhost:8080/"
        },
        "id": "aM-Hs9fElcw_",
        "outputId": "568c9ed5-200a-4987-b565-74acb3d33d41"
      },
      "execution_count": null,
      "outputs": [
        {
          "output_type": "stream",
          "name": "stdout",
          "text": [
            "Result: the number is negative\n"
          ]
        }
      ]
    },
    {
      "cell_type": "markdown",
      "source": [
        "# **Excercise 3:**"
      ],
      "metadata": {
        "id": "vUJ8s8Qtr4Zp"
      }
    },
    {
      "cell_type": "code",
      "source": [
        "year=2005\n",
        "if year % 4==0:\n",
        "  if year % 100==0:\n",
        "    if year % 400==0:\n",
        "      leap_year=True\n",
        "    else:\n",
        "        leap_year=False\n",
        "  else:\n",
        "    leap_year=True\n",
        "else:\n",
        "    leap_year=False\n",
        "print(\"Leap Year:\", leap_year)"
      ],
      "metadata": {
        "colab": {
          "base_uri": "https://localhost:8080/"
        },
        "id": "hmIxMqtH0Ecy",
        "outputId": "8b1d5013-2ef1-484b-fdba-647ce66eaa8a"
      },
      "execution_count": null,
      "outputs": [
        {
          "output_type": "stream",
          "name": "stdout",
          "text": [
            "Leap Year: False\n"
          ]
        }
      ]
    },
    {
      "cell_type": "markdown",
      "source": [
        "# **Ecercise 4:**"
      ],
      "metadata": {
        "id": "WBl2y73QAZ2g"
      }
    },
    {
      "cell_type": "code",
      "source": [
        "x,y=-3,-2\n",
        "if x> 0:\n",
        "    if y>0:\n",
        "           Quadrant=\"Quadrant I\"\n",
        "    else:\n",
        "           Quadrant=\"Quadrant IV\"\n",
        "else:\n",
        "      if y>0:\n",
        "              Quadrant=\"Quadrant II\"\n",
        "      else:\n",
        "              Quadrant=\"Quadrant III \"\n",
        "print(\"Quadrant\", Quadrant)"
      ],
      "metadata": {
        "colab": {
          "base_uri": "https://localhost:8080/"
        },
        "id": "g02neVpQ1lwU",
        "outputId": "d0162bac-9063-490f-8ccb-e982218357e5"
      },
      "execution_count": 14,
      "outputs": [
        {
          "output_type": "stream",
          "name": "stdout",
          "text": [
            "Quadrant Quadrant III \n"
          ]
        }
      ]
    },
    {
      "cell_type": "markdown",
      "source": [
        "# **Exercise 5:**"
      ],
      "metadata": {
        "id": "HyEynP77AnDE"
      }
    },
    {
      "cell_type": "code",
      "source": [
        "purchase_amount = 1200\n",
        "\n",
        "if purchase_amount >= 1000:\n",
        "    discount = 0.2\n",
        "else:\n",
        "    if purchase_amount >= 500:\n",
        "        discount = 0.1\n",
        "    else:\n",
        "        discount = 0\n",
        "\n",
        "total_amount = purchase_amount - (purchase_amount * discount)\n",
        "print(\"Total amount after discount:\", total_amount)\n"
      ],
      "metadata": {
        "colab": {
          "base_uri": "https://localhost:8080/"
        },
        "id": "3YRMyIGkArP7",
        "outputId": "d142c87f-f53d-476c-97d7-a756428916e9"
      },
      "execution_count": null,
      "outputs": [
        {
          "output_type": "stream",
          "name": "stdout",
          "text": [
            "Total amount after discount: 960.0\n"
          ]
        }
      ]
    }
  ]
}
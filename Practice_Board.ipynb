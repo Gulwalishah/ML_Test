{
  "nbformat": 4,
  "nbformat_minor": 0,
  "metadata": {
    "colab": {
      "provenance": [],
      "mount_file_id": "17HUPnCH6iWajpU1ndh9kWbgKiKjTYLGJ",
      "authorship_tag": "ABX9TyP/qW8sOSrD1+wEXmlE6gF0",
      "include_colab_link": true
    },
    "kernelspec": {
      "name": "python3",
      "display_name": "Python 3"
    },
    "language_info": {
      "name": "python"
    }
  },
  "cells": [
    {
      "cell_type": "markdown",
      "metadata": {
        "id": "view-in-github",
        "colab_type": "text"
      },
      "source": [
        "<a href=\"https://colab.research.google.com/github/Gulwalishah/ML_Test/blob/main/Practice_Board.ipynb\" target=\"_parent\"><img src=\"https://colab.research.google.com/assets/colab-badge.svg\" alt=\"Open In Colab\"/></a>"
      ]
    },
    {
      "cell_type": "code",
      "execution_count": 5,
      "metadata": {
        "id": "S9H2sstUSxGI"
      },
      "outputs": [],
      "source": []
    },
    {
      "cell_type": "markdown",
      "source": [
        "## If, else statement"
      ],
      "metadata": {
        "id": "0DfgB6mfS4UD"
      }
    },
    {
      "cell_type": "code",
      "source": [
        "from __future__ import print_function\n",
        "x= 0\n",
        "if x>0:\n",
        "  print(\"the number is positive\")\n",
        "elif x==0:\n",
        "    print(\"the number neither positive nor negative\")\n",
        "elif x != 2:\n",
        "      print(\"the number is an odd\")\n",
        "else:\n",
        "    print(\"the number is negative\")"
      ],
      "metadata": {
        "colab": {
          "base_uri": "https://localhost:8080/"
        },
        "id": "G_Wzfwz_UC75",
        "outputId": "9528c3d9-fe25-46e2-85b9-c52a06c2db02"
      },
      "execution_count": 10,
      "outputs": [
        {
          "output_type": "stream",
          "name": "stdout",
          "text": [
            "the number neither positive nor negative\n"
          ]
        }
      ]
    },
    {
      "cell_type": "markdown",
      "source": [
        "# Exercise 1: Determine the grade based on the marks obtained."
      ],
      "metadata": {
        "id": "KYNv55hxXRBD"
      }
    },
    {
      "cell_type": "code",
      "source": [
        "marks=65\n",
        "if marks >= 90:\n",
        "  grade =\"A\"\n",
        "else:\n",
        "    if marks >= 80:\n",
        "      grade=\"B\"\n",
        "    else:\n",
        "        if marks >=70:\n",
        "          grade=\"C\"\n",
        "        else:\n",
        "            if marks>=60:\n",
        "              grade=\"D\"\n",
        "            else:\n",
        "                if marks<=59:\n",
        "                  grade=\"F\"\n",
        "print(\"Grade\", grade)"
      ],
      "metadata": {
        "colab": {
          "base_uri": "https://localhost:8080/"
        },
        "id": "wn2rJ9M-XXup",
        "outputId": "dc44bc45-330a-4a57-b4f0-753cb1021d55"
      },
      "execution_count": 33,
      "outputs": [
        {
          "output_type": "stream",
          "name": "stdout",
          "text": [
            "Grade D\n"
          ]
        }
      ]
    },
    {
      "cell_type": "code",
      "source": [
        "\n",
        "marks=78\n",
        "if marks >=90:\n",
        " grade=\"A\"\n",
        "else:\n",
        "      if marks  >=80:\n",
        "         grade=\"B\"\n",
        "      else:\n",
        "        if marks >=70:\n",
        "            grade=\"C\"\n",
        "\n",
        "marks=78\n",
        "if marks >=90:\n",
        " grade=\"A\"\n",
        "else:\n",
        "      if marks  >=80:\n",
        "         grade=\"B\"\n",
        "      else:\n",
        "        if marks >=70:\n",
        "            grade=\"C\"\n",
        "\n",
        "Grade C\n",
        "[ ]\n",
        "\n",
        "        else:\n",
        "            if marks <=69:\n",
        "              grade=\"F\"\n",
        "print(\"Grade\", grade)"
      ],
      "metadata": {
        "colab": {
          "base_uri": "https://localhost:8080/"
        },
        "id": "7q5TYhjdbFIx",
        "outputId": "bb38520f-f9c0-44e6-8382-a9f2f2fddecc"
      },
      "execution_count": 83,
      "outputs": [
        {
          "output_type": "stream",
          "name": "stdout",
          "text": [
            "Grade C\n"
          ]
        }
      ]
    },
    {
      "cell_type": "code",
      "source": [],
      "metadata": {
        "id": "C2Pvn5GIiMnI"
      },
      "execution_count": null,
      "outputs": []
    }
  ]
}
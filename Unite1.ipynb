{
  "nbformat": 4,
  "nbformat_minor": 0,
  "metadata": {
    "colab": {
      "provenance": [],
      "mount_file_id": "1DCaMkOI6od3MlvhOutrm63-FMJJPJKdZ",
      "authorship_tag": "ABX9TyMnr4lrKL0X4w+3+f3lNdKM",
      "include_colab_link": true
    },
    "kernelspec": {
      "name": "python3",
      "display_name": "Python 3"
    },
    "language_info": {
      "name": "python"
    },
    "gpuClass": "standard",
    "widgets": {
      "application/vnd.jupyter.widget-state+json": {
        "eaf76f567fb848b38c9eb2901d7c3590": {
          "model_module": "@jupyter-widgets/controls",
          "model_name": "HBoxModel",
          "model_module_version": "1.5.0",
          "state": {
            "_dom_classes": [],
            "_model_module": "@jupyter-widgets/controls",
            "_model_module_version": "1.5.0",
            "_model_name": "HBoxModel",
            "_view_count": null,
            "_view_module": "@jupyter-widgets/controls",
            "_view_module_version": "1.5.0",
            "_view_name": "HBoxView",
            "box_style": "",
            "children": [
              "IPY_MODEL_bd9f601e93364bc9af4e59d32bdc9c04",
              "IPY_MODEL_1417d5937640494a957a651ec9a747f2",
              "IPY_MODEL_db24594b14e948d9a4abded4fec59c06"
            ],
            "layout": "IPY_MODEL_8235ad475fb542b2a361f02ec56a177f"
          }
        },
        "bd9f601e93364bc9af4e59d32bdc9c04": {
          "model_module": "@jupyter-widgets/controls",
          "model_name": "HTMLModel",
          "model_module_version": "1.5.0",
          "state": {
            "_dom_classes": [],
            "_model_module": "@jupyter-widgets/controls",
            "_model_module_version": "1.5.0",
            "_model_name": "HTMLModel",
            "_view_count": null,
            "_view_module": "@jupyter-widgets/controls",
            "_view_module_version": "1.5.0",
            "_view_name": "HTMLView",
            "description": "",
            "description_tooltip": null,
            "layout": "IPY_MODEL_53512d920f904c3f84a4402d3e2e1175",
            "placeholder": "​",
            "style": "IPY_MODEL_d0973c3a545d4c0b825d66e0312985d1",
            "value": "Optimization Progress: 100%"
          }
        },
        "1417d5937640494a957a651ec9a747f2": {
          "model_module": "@jupyter-widgets/controls",
          "model_name": "FloatProgressModel",
          "model_module_version": "1.5.0",
          "state": {
            "_dom_classes": [],
            "_model_module": "@jupyter-widgets/controls",
            "_model_module_version": "1.5.0",
            "_model_name": "FloatProgressModel",
            "_view_count": null,
            "_view_module": "@jupyter-widgets/controls",
            "_view_module_version": "1.5.0",
            "_view_name": "ProgressView",
            "bar_style": "",
            "description": "",
            "description_tooltip": null,
            "layout": "IPY_MODEL_58ef76efedbd4df6b651927af89cb49b",
            "max": 300,
            "min": 0,
            "orientation": "horizontal",
            "style": "IPY_MODEL_c6eb6483a4c74054827992dd8c1e5430",
            "value": 300
          }
        },
        "db24594b14e948d9a4abded4fec59c06": {
          "model_module": "@jupyter-widgets/controls",
          "model_name": "HTMLModel",
          "model_module_version": "1.5.0",
          "state": {
            "_dom_classes": [],
            "_model_module": "@jupyter-widgets/controls",
            "_model_module_version": "1.5.0",
            "_model_name": "HTMLModel",
            "_view_count": null,
            "_view_module": "@jupyter-widgets/controls",
            "_view_module_version": "1.5.0",
            "_view_name": "HTMLView",
            "description": "",
            "description_tooltip": null,
            "layout": "IPY_MODEL_2e45c0af68fa4ef1b45deaf805425d52",
            "placeholder": "​",
            "style": "IPY_MODEL_8d3f5f4731e547adab0446d619355d9c",
            "value": " 300/300 [28:06&lt;00:00,  5.53s/pipeline]"
          }
        },
        "8235ad475fb542b2a361f02ec56a177f": {
          "model_module": "@jupyter-widgets/base",
          "model_name": "LayoutModel",
          "model_module_version": "1.2.0",
          "state": {
            "_model_module": "@jupyter-widgets/base",
            "_model_module_version": "1.2.0",
            "_model_name": "LayoutModel",
            "_view_count": null,
            "_view_module": "@jupyter-widgets/base",
            "_view_module_version": "1.2.0",
            "_view_name": "LayoutView",
            "align_content": null,
            "align_items": null,
            "align_self": null,
            "border": null,
            "bottom": null,
            "display": null,
            "flex": null,
            "flex_flow": null,
            "grid_area": null,
            "grid_auto_columns": null,
            "grid_auto_flow": null,
            "grid_auto_rows": null,
            "grid_column": null,
            "grid_gap": null,
            "grid_row": null,
            "grid_template_areas": null,
            "grid_template_columns": null,
            "grid_template_rows": null,
            "height": null,
            "justify_content": null,
            "justify_items": null,
            "left": null,
            "margin": null,
            "max_height": null,
            "max_width": null,
            "min_height": null,
            "min_width": null,
            "object_fit": null,
            "object_position": null,
            "order": null,
            "overflow": null,
            "overflow_x": null,
            "overflow_y": null,
            "padding": null,
            "right": null,
            "top": null,
            "visibility": "hidden",
            "width": null
          }
        },
        "53512d920f904c3f84a4402d3e2e1175": {
          "model_module": "@jupyter-widgets/base",
          "model_name": "LayoutModel",
          "model_module_version": "1.2.0",
          "state": {
            "_model_module": "@jupyter-widgets/base",
            "_model_module_version": "1.2.0",
            "_model_name": "LayoutModel",
            "_view_count": null,
            "_view_module": "@jupyter-widgets/base",
            "_view_module_version": "1.2.0",
            "_view_name": "LayoutView",
            "align_content": null,
            "align_items": null,
            "align_self": null,
            "border": null,
            "bottom": null,
            "display": null,
            "flex": null,
            "flex_flow": null,
            "grid_area": null,
            "grid_auto_columns": null,
            "grid_auto_flow": null,
            "grid_auto_rows": null,
            "grid_column": null,
            "grid_gap": null,
            "grid_row": null,
            "grid_template_areas": null,
            "grid_template_columns": null,
            "grid_template_rows": null,
            "height": null,
            "justify_content": null,
            "justify_items": null,
            "left": null,
            "margin": null,
            "max_height": null,
            "max_width": null,
            "min_height": null,
            "min_width": null,
            "object_fit": null,
            "object_position": null,
            "order": null,
            "overflow": null,
            "overflow_x": null,
            "overflow_y": null,
            "padding": null,
            "right": null,
            "top": null,
            "visibility": null,
            "width": null
          }
        },
        "d0973c3a545d4c0b825d66e0312985d1": {
          "model_module": "@jupyter-widgets/controls",
          "model_name": "DescriptionStyleModel",
          "model_module_version": "1.5.0",
          "state": {
            "_model_module": "@jupyter-widgets/controls",
            "_model_module_version": "1.5.0",
            "_model_name": "DescriptionStyleModel",
            "_view_count": null,
            "_view_module": "@jupyter-widgets/base",
            "_view_module_version": "1.2.0",
            "_view_name": "StyleView",
            "description_width": ""
          }
        },
        "58ef76efedbd4df6b651927af89cb49b": {
          "model_module": "@jupyter-widgets/base",
          "model_name": "LayoutModel",
          "model_module_version": "1.2.0",
          "state": {
            "_model_module": "@jupyter-widgets/base",
            "_model_module_version": "1.2.0",
            "_model_name": "LayoutModel",
            "_view_count": null,
            "_view_module": "@jupyter-widgets/base",
            "_view_module_version": "1.2.0",
            "_view_name": "LayoutView",
            "align_content": null,
            "align_items": null,
            "align_self": null,
            "border": null,
            "bottom": null,
            "display": null,
            "flex": null,
            "flex_flow": null,
            "grid_area": null,
            "grid_auto_columns": null,
            "grid_auto_flow": null,
            "grid_auto_rows": null,
            "grid_column": null,
            "grid_gap": null,
            "grid_row": null,
            "grid_template_areas": null,
            "grid_template_columns": null,
            "grid_template_rows": null,
            "height": null,
            "justify_content": null,
            "justify_items": null,
            "left": null,
            "margin": null,
            "max_height": null,
            "max_width": null,
            "min_height": null,
            "min_width": null,
            "object_fit": null,
            "object_position": null,
            "order": null,
            "overflow": null,
            "overflow_x": null,
            "overflow_y": null,
            "padding": null,
            "right": null,
            "top": null,
            "visibility": null,
            "width": null
          }
        },
        "c6eb6483a4c74054827992dd8c1e5430": {
          "model_module": "@jupyter-widgets/controls",
          "model_name": "ProgressStyleModel",
          "model_module_version": "1.5.0",
          "state": {
            "_model_module": "@jupyter-widgets/controls",
            "_model_module_version": "1.5.0",
            "_model_name": "ProgressStyleModel",
            "_view_count": null,
            "_view_module": "@jupyter-widgets/base",
            "_view_module_version": "1.2.0",
            "_view_name": "StyleView",
            "bar_color": null,
            "description_width": ""
          }
        },
        "2e45c0af68fa4ef1b45deaf805425d52": {
          "model_module": "@jupyter-widgets/base",
          "model_name": "LayoutModel",
          "model_module_version": "1.2.0",
          "state": {
            "_model_module": "@jupyter-widgets/base",
            "_model_module_version": "1.2.0",
            "_model_name": "LayoutModel",
            "_view_count": null,
            "_view_module": "@jupyter-widgets/base",
            "_view_module_version": "1.2.0",
            "_view_name": "LayoutView",
            "align_content": null,
            "align_items": null,
            "align_self": null,
            "border": null,
            "bottom": null,
            "display": null,
            "flex": null,
            "flex_flow": null,
            "grid_area": null,
            "grid_auto_columns": null,
            "grid_auto_flow": null,
            "grid_auto_rows": null,
            "grid_column": null,
            "grid_gap": null,
            "grid_row": null,
            "grid_template_areas": null,
            "grid_template_columns": null,
            "grid_template_rows": null,
            "height": null,
            "justify_content": null,
            "justify_items": null,
            "left": null,
            "margin": null,
            "max_height": null,
            "max_width": null,
            "min_height": null,
            "min_width": null,
            "object_fit": null,
            "object_position": null,
            "order": null,
            "overflow": null,
            "overflow_x": null,
            "overflow_y": null,
            "padding": null,
            "right": null,
            "top": null,
            "visibility": null,
            "width": null
          }
        },
        "8d3f5f4731e547adab0446d619355d9c": {
          "model_module": "@jupyter-widgets/controls",
          "model_name": "DescriptionStyleModel",
          "model_module_version": "1.5.0",
          "state": {
            "_model_module": "@jupyter-widgets/controls",
            "_model_module_version": "1.5.0",
            "_model_name": "DescriptionStyleModel",
            "_view_count": null,
            "_view_module": "@jupyter-widgets/base",
            "_view_module_version": "1.2.0",
            "_view_name": "StyleView",
            "description_width": ""
          }
        },
        "561225de8717460f82c7b34fa25b4242": {
          "model_module": "@jupyter-widgets/controls",
          "model_name": "HBoxModel",
          "model_module_version": "1.5.0",
          "state": {
            "_dom_classes": [],
            "_model_module": "@jupyter-widgets/controls",
            "_model_module_version": "1.5.0",
            "_model_name": "HBoxModel",
            "_view_count": null,
            "_view_module": "@jupyter-widgets/controls",
            "_view_module_version": "1.5.0",
            "_view_name": "HBoxView",
            "box_style": "",
            "children": [
              "IPY_MODEL_791203a8ec2a474d9535657a795b8a3b",
              "IPY_MODEL_2d8eec6e4eec4fb5b38660a1b15a989a",
              "IPY_MODEL_7628ca643de84e51a7ffcd32a54ba9d3"
            ],
            "layout": "IPY_MODEL_b22d4b1d3b18417e87253ff5b2588abd"
          }
        },
        "791203a8ec2a474d9535657a795b8a3b": {
          "model_module": "@jupyter-widgets/controls",
          "model_name": "HTMLModel",
          "model_module_version": "1.5.0",
          "state": {
            "_dom_classes": [],
            "_model_module": "@jupyter-widgets/controls",
            "_model_module_version": "1.5.0",
            "_model_name": "HTMLModel",
            "_view_count": null,
            "_view_module": "@jupyter-widgets/controls",
            "_view_module_version": "1.5.0",
            "_view_name": "HTMLView",
            "description": "",
            "description_tooltip": null,
            "layout": "IPY_MODEL_cfeae1d46048444b99a505886aff39b8",
            "placeholder": "​",
            "style": "IPY_MODEL_7358b93790bf4be889b4aad23484d849",
            "value": "Optimization Progress: 100%"
          }
        },
        "2d8eec6e4eec4fb5b38660a1b15a989a": {
          "model_module": "@jupyter-widgets/controls",
          "model_name": "FloatProgressModel",
          "model_module_version": "1.5.0",
          "state": {
            "_dom_classes": [],
            "_model_module": "@jupyter-widgets/controls",
            "_model_module_version": "1.5.0",
            "_model_name": "FloatProgressModel",
            "_view_count": null,
            "_view_module": "@jupyter-widgets/controls",
            "_view_module_version": "1.5.0",
            "_view_name": "ProgressView",
            "bar_style": "",
            "description": "",
            "description_tooltip": null,
            "layout": "IPY_MODEL_d38c1886e4a84273bcd01791ab628477",
            "max": 30,
            "min": 0,
            "orientation": "horizontal",
            "style": "IPY_MODEL_0fcc7adfeedd4ab6b8e6cbd1a3b97d9b",
            "value": 30
          }
        },
        "7628ca643de84e51a7ffcd32a54ba9d3": {
          "model_module": "@jupyter-widgets/controls",
          "model_name": "HTMLModel",
          "model_module_version": "1.5.0",
          "state": {
            "_dom_classes": [],
            "_model_module": "@jupyter-widgets/controls",
            "_model_module_version": "1.5.0",
            "_model_name": "HTMLModel",
            "_view_count": null,
            "_view_module": "@jupyter-widgets/controls",
            "_view_module_version": "1.5.0",
            "_view_name": "HTMLView",
            "description": "",
            "description_tooltip": null,
            "layout": "IPY_MODEL_69366ea7e4de4b948ddfd2e80eade5df",
            "placeholder": "​",
            "style": "IPY_MODEL_689b339db1174677b1471bae68c7c670",
            "value": " 30/30 [02:37&lt;00:00,  3.96s/pipeline]"
          }
        },
        "b22d4b1d3b18417e87253ff5b2588abd": {
          "model_module": "@jupyter-widgets/base",
          "model_name": "LayoutModel",
          "model_module_version": "1.2.0",
          "state": {
            "_model_module": "@jupyter-widgets/base",
            "_model_module_version": "1.2.0",
            "_model_name": "LayoutModel",
            "_view_count": null,
            "_view_module": "@jupyter-widgets/base",
            "_view_module_version": "1.2.0",
            "_view_name": "LayoutView",
            "align_content": null,
            "align_items": null,
            "align_self": null,
            "border": null,
            "bottom": null,
            "display": null,
            "flex": null,
            "flex_flow": null,
            "grid_area": null,
            "grid_auto_columns": null,
            "grid_auto_flow": null,
            "grid_auto_rows": null,
            "grid_column": null,
            "grid_gap": null,
            "grid_row": null,
            "grid_template_areas": null,
            "grid_template_columns": null,
            "grid_template_rows": null,
            "height": null,
            "justify_content": null,
            "justify_items": null,
            "left": null,
            "margin": null,
            "max_height": null,
            "max_width": null,
            "min_height": null,
            "min_width": null,
            "object_fit": null,
            "object_position": null,
            "order": null,
            "overflow": null,
            "overflow_x": null,
            "overflow_y": null,
            "padding": null,
            "right": null,
            "top": null,
            "visibility": "hidden",
            "width": null
          }
        },
        "cfeae1d46048444b99a505886aff39b8": {
          "model_module": "@jupyter-widgets/base",
          "model_name": "LayoutModel",
          "model_module_version": "1.2.0",
          "state": {
            "_model_module": "@jupyter-widgets/base",
            "_model_module_version": "1.2.0",
            "_model_name": "LayoutModel",
            "_view_count": null,
            "_view_module": "@jupyter-widgets/base",
            "_view_module_version": "1.2.0",
            "_view_name": "LayoutView",
            "align_content": null,
            "align_items": null,
            "align_self": null,
            "border": null,
            "bottom": null,
            "display": null,
            "flex": null,
            "flex_flow": null,
            "grid_area": null,
            "grid_auto_columns": null,
            "grid_auto_flow": null,
            "grid_auto_rows": null,
            "grid_column": null,
            "grid_gap": null,
            "grid_row": null,
            "grid_template_areas": null,
            "grid_template_columns": null,
            "grid_template_rows": null,
            "height": null,
            "justify_content": null,
            "justify_items": null,
            "left": null,
            "margin": null,
            "max_height": null,
            "max_width": null,
            "min_height": null,
            "min_width": null,
            "object_fit": null,
            "object_position": null,
            "order": null,
            "overflow": null,
            "overflow_x": null,
            "overflow_y": null,
            "padding": null,
            "right": null,
            "top": null,
            "visibility": null,
            "width": null
          }
        },
        "7358b93790bf4be889b4aad23484d849": {
          "model_module": "@jupyter-widgets/controls",
          "model_name": "DescriptionStyleModel",
          "model_module_version": "1.5.0",
          "state": {
            "_model_module": "@jupyter-widgets/controls",
            "_model_module_version": "1.5.0",
            "_model_name": "DescriptionStyleModel",
            "_view_count": null,
            "_view_module": "@jupyter-widgets/base",
            "_view_module_version": "1.2.0",
            "_view_name": "StyleView",
            "description_width": ""
          }
        },
        "d38c1886e4a84273bcd01791ab628477": {
          "model_module": "@jupyter-widgets/base",
          "model_name": "LayoutModel",
          "model_module_version": "1.2.0",
          "state": {
            "_model_module": "@jupyter-widgets/base",
            "_model_module_version": "1.2.0",
            "_model_name": "LayoutModel",
            "_view_count": null,
            "_view_module": "@jupyter-widgets/base",
            "_view_module_version": "1.2.0",
            "_view_name": "LayoutView",
            "align_content": null,
            "align_items": null,
            "align_self": null,
            "border": null,
            "bottom": null,
            "display": null,
            "flex": null,
            "flex_flow": null,
            "grid_area": null,
            "grid_auto_columns": null,
            "grid_auto_flow": null,
            "grid_auto_rows": null,
            "grid_column": null,
            "grid_gap": null,
            "grid_row": null,
            "grid_template_areas": null,
            "grid_template_columns": null,
            "grid_template_rows": null,
            "height": null,
            "justify_content": null,
            "justify_items": null,
            "left": null,
            "margin": null,
            "max_height": null,
            "max_width": null,
            "min_height": null,
            "min_width": null,
            "object_fit": null,
            "object_position": null,
            "order": null,
            "overflow": null,
            "overflow_x": null,
            "overflow_y": null,
            "padding": null,
            "right": null,
            "top": null,
            "visibility": null,
            "width": null
          }
        },
        "0fcc7adfeedd4ab6b8e6cbd1a3b97d9b": {
          "model_module": "@jupyter-widgets/controls",
          "model_name": "ProgressStyleModel",
          "model_module_version": "1.5.0",
          "state": {
            "_model_module": "@jupyter-widgets/controls",
            "_model_module_version": "1.5.0",
            "_model_name": "ProgressStyleModel",
            "_view_count": null,
            "_view_module": "@jupyter-widgets/base",
            "_view_module_version": "1.2.0",
            "_view_name": "StyleView",
            "bar_color": null,
            "description_width": ""
          }
        },
        "69366ea7e4de4b948ddfd2e80eade5df": {
          "model_module": "@jupyter-widgets/base",
          "model_name": "LayoutModel",
          "model_module_version": "1.2.0",
          "state": {
            "_model_module": "@jupyter-widgets/base",
            "_model_module_version": "1.2.0",
            "_model_name": "LayoutModel",
            "_view_count": null,
            "_view_module": "@jupyter-widgets/base",
            "_view_module_version": "1.2.0",
            "_view_name": "LayoutView",
            "align_content": null,
            "align_items": null,
            "align_self": null,
            "border": null,
            "bottom": null,
            "display": null,
            "flex": null,
            "flex_flow": null,
            "grid_area": null,
            "grid_auto_columns": null,
            "grid_auto_flow": null,
            "grid_auto_rows": null,
            "grid_column": null,
            "grid_gap": null,
            "grid_row": null,
            "grid_template_areas": null,
            "grid_template_columns": null,
            "grid_template_rows": null,
            "height": null,
            "justify_content": null,
            "justify_items": null,
            "left": null,
            "margin": null,
            "max_height": null,
            "max_width": null,
            "min_height": null,
            "min_width": null,
            "object_fit": null,
            "object_position": null,
            "order": null,
            "overflow": null,
            "overflow_x": null,
            "overflow_y": null,
            "padding": null,
            "right": null,
            "top": null,
            "visibility": null,
            "width": null
          }
        },
        "689b339db1174677b1471bae68c7c670": {
          "model_module": "@jupyter-widgets/controls",
          "model_name": "DescriptionStyleModel",
          "model_module_version": "1.5.0",
          "state": {
            "_model_module": "@jupyter-widgets/controls",
            "_model_module_version": "1.5.0",
            "_model_name": "DescriptionStyleModel",
            "_view_count": null,
            "_view_module": "@jupyter-widgets/base",
            "_view_module_version": "1.2.0",
            "_view_name": "StyleView",
            "description_width": ""
          }
        }
      }
    }
  },
  "cells": [
    {
      "cell_type": "markdown",
      "metadata": {
        "id": "view-in-github",
        "colab_type": "text"
      },
      "source": [
        "<a href=\"https://colab.research.google.com/github/Gulwalishah/ML_Test/blob/main/Unite1.ipynb\" target=\"_parent\"><img src=\"https://colab.research.google.com/assets/colab-badge.svg\" alt=\"Open In Colab\"/></a>"
      ]
    },
    {
      "cell_type": "markdown",
      "source": [
        "# New Section"
      ],
      "metadata": {
        "id": "LNvzG9wl13tb"
      }
    },
    {
      "cell_type": "code",
      "source": [
        "import numpy as np\n",
        "import matplotlib.pyplot as plt\n",
        "from sklearn.cluster import KMeans\n",
        "from sklearn.datasets import make_blobs\n",
        "\n",
        "# Generate some random data for demonstration purposes\n",
        "X, y = make_blobs(n_samples=300, centers=4, cluster_std=0.60, random_state=42)\n",
        "\n",
        "# Create and fit the KMeans clustering model\n",
        "model = KMeans(n_clusters=4, random_state=42)\n",
        "model.fit(X)\n",
        "\n",
        "# Plot the clusters\n",
        "plt.figure(figsize=(8,6))\n",
        "plt.scatter(X[:, 0], X[:, 1], c=model.labels_, cmap='viridis', alpha=0.8)\n",
        "plt.scatter(model.cluster_centers_[:, 0], model.cluster_centers_[:, 1], s=100, c='red')\n",
        "plt.xlabel('Feature 1')\n",
        "plt.ylabel('Feature 2')\n",
        "plt.title('KMeans Clustering')\n",
        "plt.show()\n"
      ],
      "metadata": {
        "colab": {
          "base_uri": "https://localhost:8080/",
          "height": 619
        },
        "id": "lb_5iPQf-ysV",
        "outputId": "812b44f4-295f-40d9-c8e5-38256cbe2b02"
      },
      "execution_count": null,
      "outputs": [
        {
          "output_type": "stream",
          "name": "stderr",
          "text": [
            "/usr/local/lib/python3.9/dist-packages/sklearn/cluster/_kmeans.py:870: FutureWarning: The default value of `n_init` will change from 10 to 'auto' in 1.4. Set the value of `n_init` explicitly to suppress the warning\n",
            "  warnings.warn(\n"
          ]
        },
        {
          "output_type": "display_data",
          "data": {
            "text/plain": [
              "<Figure size 800x600 with 1 Axes>"
            ],
            "image/png": "[encoded data removed]"
          },
          "metadata": {}
        }
      ]
    },
    {
      "cell_type": "code",
      "source": [
        "import numpy as np\n",
        "import matplotlib.pyplot as plt\n",
        "from scipy.cluster.hierarchy import dendrogram, linkage\n",
        "\n",
        "# Generate some random data for demonstration purposes\n",
        "X = np.random.rand(100, 2)\n",
        "\n",
        "# Perform hierarchical clustering\n",
        "Z = linkage(X, method='ward')\n",
        "\n",
        "# Plot the dendrogram\n",
        "plt.figure(figsize=(12,8))\n",
        "dendrogram(Z)\n",
        "plt.title('Hierarchical Clustering Dendrogram')\n",
        "plt.xlabel('Sample index')\n",
        "plt.ylabel('Distance')\n",
        "plt.show()\n"
      ],
      "metadata": {
        "colab": {
          "base_uri": "https://localhost:8080/",
          "height": 713
        },
        "id": "teKp6XLACwYf",
        "outputId": "1688cdb5-dd2b-4612-cdae-b0ef4f884b0d"
      },
      "execution_count": null,
      "outputs": [
        {
          "output_type": "display_data",
          "data": {
            "text/plain": [
              "<Figure size 1200x800 with 1 Axes>"
            ],
            "image/png": "[encoded data removed]"
          },
          "metadata": {}
        }
      ]
    },
    {
      "cell_type": "code",
      "source": [
        "import numpy as np\n",
        "import matplotlib.pyplot as plt\n",
        "from sklearn.datasets import load_digits\n",
        "from sklearn.manifold import TSNE\n",
        "\n",
        "# Load the digits dataset\n",
        "X, y = load_digits(return_X_y=True)\n",
        "\n",
        "# Perform t-SNE embedding\n",
        "tsne = TSNE(n_components=2, random_state=42)\n",
        "X_embedded = tsne.fit_transform(X)\n",
        "\n",
        "# Plot the embedded data\n",
        "plt.figure(figsize=(10, 10))\n",
        "plt.scatter(X_embedded[:, 0], X_embedded[:, 1], c=y, cmap=plt.cm.get_cmap('jet', 10))\n",
        "plt.colorbar(ticks=range(10))\n",
        "plt.title('t-SNE Embedded Digits')\n",
        "plt.xlabel('Component 1')\n",
        "plt.ylabel('Component 2')\n",
        "plt.show()\n"
      ],
      "metadata": {
        "colab": {
          "base_uri": "https://localhost:8080/",
          "height": 927
        },
        "id": "dbdCxfGiD2fJ",
        "outputId": "3a68b4e4-3b50-4551-b67f-ab5688c03509"
      },
      "execution_count": null,
      "outputs": [
        {
          "output_type": "stream",
          "name": "stderr",
          "text": [
            "<ipython-input-9-a46555912fe8>:15: MatplotlibDeprecationWarning: The get_cmap function was deprecated in Matplotlib 3.7 and will be removed two minor releases later. Use ``matplotlib.colormaps[name]`` or ``matplotlib.colormaps.get_cmap(obj)`` instead.\n",
            "  plt.scatter(X_embedded[:, 0], X_embedded[:, 1], c=y, cmap=plt.cm.get_cmap('jet', 10))\n"
          ]
        },
        {
          "output_type": "display_data",
          "data": {
            "text/plain": [
              "<Figure size 1000x1000 with 2 Axes>"
            ],
            "image/png": "[encoded data removed]"
          },
          "metadata": {}
        }
      ]
    },
    {
      "cell_type": "markdown",
      "source": [
        "# New Section"
      ],
      "metadata": {
        "id": "zM4BcDuMHUZE"
      }
    },
    {
      "cell_type": "code",
      "source": [
        "from google.colab import drive\n",
        "drive.mount('/content/drive')"
      ],
      "metadata": {
        "colab": {
          "base_uri": "https://localhost:8080/",
          "height": 328
        },
        "id": "rfr6huPxP6Jt",
        "outputId": "82767913-856d-4e32-884a-f4659cb6e249"
      },
      "execution_count": null,
      "outputs": [
        {
          "output_type": "error",
          "ename": "MessageError",
          "evalue": "ignored",
          "traceback": [
            "\u001b[0;31m---------------------------------------------------------------------------\u001b[0m",
            "\u001b[0;31mMessageError\u001b[0m                              Traceback (most recent call last)",
            "\u001b[0;32m<ipython-input-6-d5df0069828e>\u001b[0m in \u001b[0;36m<cell line: 2>\u001b[0;34m()\u001b[0m\n\u001b[1;32m      1\u001b[0m \u001b[0;32mfrom\u001b[0m \u001b[0mgoogle\u001b[0m\u001b[0;34m.\u001b[0m\u001b[0mcolab\u001b[0m \u001b[0;32mimport\u001b[0m \u001b[0mdrive\u001b[0m\u001b[0;34m\u001b[0m\u001b[0;34m\u001b[0m\u001b[0m\n\u001b[0;32m----> 2\u001b[0;31m \u001b[0mdrive\u001b[0m\u001b[0;34m.\u001b[0m\u001b[0mmount\u001b[0m\u001b[0;34m(\u001b[0m\u001b[0;34m'/content/drive'\u001b[0m\u001b[0;34m)\u001b[0m\u001b[0;34m\u001b[0m\u001b[0;34m\u001b[0m\u001b[0m\n\u001b[0m",
            "\u001b[0;32m/usr/local/lib/python3.9/dist-packages/google/colab/drive.py\u001b[0m in \u001b[0;36mmount\u001b[0;34m(mountpoint, force_remount, timeout_ms, readonly)\u001b[0m\n\u001b[1;32m    101\u001b[0m \u001b[0;32mdef\u001b[0m \u001b[0mmount\u001b[0m\u001b[0;34m(\u001b[0m\u001b[0mmountpoint\u001b[0m\u001b[0;34m,\u001b[0m \u001b[0mforce_remount\u001b[0m\u001b[0;34m=\u001b[0m\u001b[0;32mFalse\u001b[0m\u001b[0;34m,\u001b[0m \u001b[0mtimeout_ms\u001b[0m\u001b[0;34m=\u001b[0m\u001b[0;36m120000\u001b[0m\u001b[0;34m,\u001b[0m \u001b[0mreadonly\u001b[0m\u001b[0;34m=\u001b[0m\u001b[0;32mFalse\u001b[0m\u001b[0;34m)\u001b[0m\u001b[0;34m:\u001b[0m\u001b[0;34m\u001b[0m\u001b[0;34m\u001b[0m\u001b[0m\n\u001b[1;32m    102\u001b[0m   \u001b[0;34m\"\"\"Mount your Google Drive at the specified mountpoint path.\"\"\"\u001b[0m\u001b[0;34m\u001b[0m\u001b[0;34m\u001b[0m\u001b[0m\n\u001b[0;32m--> 103\u001b[0;31m   return _mount(\n\u001b[0m\u001b[1;32m    104\u001b[0m       \u001b[0mmountpoint\u001b[0m\u001b[0;34m,\u001b[0m\u001b[0;34m\u001b[0m\u001b[0;34m\u001b[0m\u001b[0m\n\u001b[1;32m    105\u001b[0m       \u001b[0mforce_remount\u001b[0m\u001b[0;34m=\u001b[0m\u001b[0mforce_remount\u001b[0m\u001b[0;34m,\u001b[0m\u001b[0;34m\u001b[0m\u001b[0;34m\u001b[0m\u001b[0m\n",
            "\u001b[0;32m/usr/local/lib/python3.9/dist-packages/google/colab/drive.py\u001b[0m in \u001b[0;36m_mount\u001b[0;34m(mountpoint, force_remount, timeout_ms, ephemeral, readonly)\u001b[0m\n\u001b[1;32m    130\u001b[0m   )\n\u001b[1;32m    131\u001b[0m   \u001b[0;32mif\u001b[0m \u001b[0mephemeral\u001b[0m\u001b[0;34m:\u001b[0m\u001b[0;34m\u001b[0m\u001b[0;34m\u001b[0m\u001b[0m\n\u001b[0;32m--> 132\u001b[0;31m     _message.blocking_request(\n\u001b[0m\u001b[1;32m    133\u001b[0m         \u001b[0;34m'request_auth'\u001b[0m\u001b[0;34m,\u001b[0m \u001b[0mrequest\u001b[0m\u001b[0;34m=\u001b[0m\u001b[0;34m{\u001b[0m\u001b[0;34m'authType'\u001b[0m\u001b[0;34m:\u001b[0m \u001b[0;34m'dfs_ephemeral'\u001b[0m\u001b[0;34m}\u001b[0m\u001b[0;34m,\u001b[0m \u001b[0mtimeout_sec\u001b[0m\u001b[0;34m=\u001b[0m\u001b[0;32mNone\u001b[0m\u001b[0;34m\u001b[0m\u001b[0;34m\u001b[0m\u001b[0m\n\u001b[1;32m    134\u001b[0m     )\n",
            "\u001b[0;32m/usr/local/lib/python3.9/dist-packages/google/colab/_message.py\u001b[0m in \u001b[0;36mblocking_request\u001b[0;34m(request_type, request, timeout_sec, parent)\u001b[0m\n\u001b[1;32m    175\u001b[0m       \u001b[0mrequest_type\u001b[0m\u001b[0;34m,\u001b[0m \u001b[0mrequest\u001b[0m\u001b[0;34m,\u001b[0m \u001b[0mparent\u001b[0m\u001b[0;34m=\u001b[0m\u001b[0mparent\u001b[0m\u001b[0;34m,\u001b[0m \u001b[0mexpect_reply\u001b[0m\u001b[0;34m=\u001b[0m\u001b[0;32mTrue\u001b[0m\u001b[0;34m\u001b[0m\u001b[0;34m\u001b[0m\u001b[0m\n\u001b[1;32m    176\u001b[0m   )\n\u001b[0;32m--> 177\u001b[0;31m   \u001b[0;32mreturn\u001b[0m \u001b[0mread_reply_from_input\u001b[0m\u001b[0;34m(\u001b[0m\u001b[0mrequest_id\u001b[0m\u001b[0;34m,\u001b[0m \u001b[0mtimeout_sec\u001b[0m\u001b[0;34m)\u001b[0m\u001b[0;34m\u001b[0m\u001b[0;34m\u001b[0m\u001b[0m\n\u001b[0m",
            "\u001b[0;32m/usr/local/lib/python3.9/dist-packages/google/colab/_message.py\u001b[0m in \u001b[0;36mread_reply_from_input\u001b[0;34m(message_id, timeout_sec)\u001b[0m\n\u001b[1;32m    102\u001b[0m     ):\n\u001b[1;32m    103\u001b[0m       \u001b[0;32mif\u001b[0m \u001b[0;34m'error'\u001b[0m \u001b[0;32min\u001b[0m \u001b[0mreply\u001b[0m\u001b[0;34m:\u001b[0m\u001b[0;34m\u001b[0m\u001b[0;34m\u001b[0m\u001b[0m\n\u001b[0;32m--> 104\u001b[0;31m         \u001b[0;32mraise\u001b[0m \u001b[0mMessageError\u001b[0m\u001b[0;34m(\u001b[0m\u001b[0mreply\u001b[0m\u001b[0;34m[\u001b[0m\u001b[0;34m'error'\u001b[0m\u001b[0;34m]\u001b[0m\u001b[0;34m)\u001b[0m\u001b[0;34m\u001b[0m\u001b[0;34m\u001b[0m\u001b[0m\n\u001b[0m\u001b[1;32m    105\u001b[0m       \u001b[0;32mreturn\u001b[0m \u001b[0mreply\u001b[0m\u001b[0;34m.\u001b[0m\u001b[0mget\u001b[0m\u001b[0;34m(\u001b[0m\u001b[0;34m'data'\u001b[0m\u001b[0;34m,\u001b[0m \u001b[0;32mNone\u001b[0m\u001b[0;34m)\u001b[0m\u001b[0;34m\u001b[0m\u001b[0;34m\u001b[0m\u001b[0m\n\u001b[1;32m    106\u001b[0m \u001b[0;34m\u001b[0m\u001b[0m\n",
            "\u001b[0;31mMessageError\u001b[0m: Error: credential propagation was unsuccessful"
          ]
        }
      ]
    },
    {
      "cell_type": "code",
      "execution_count": null,
      "metadata": {
        "id": "iKfN3H4d-iOh"
      },
      "outputs": [],
      "source": [
        "3+3"
      ]
    },
    {
      "cell_type": "markdown",
      "source": [
        "hi hello\n",
        "\n"
      ],
      "metadata": {
        "id": "7EPCMYfb-0Eu"
      }
    },
    {
      "cell_type": "code",
      "source": [
        "'***'\n"
      ],
      "metadata": {
        "id": "X5MJ2WpC-1uu"
      },
      "execution_count": null,
      "outputs": []
    },
    {
      "cell_type": "markdown",
      "source": [],
      "metadata": {
        "id": "3VFyTnt41VBd"
      }
    },
    {
      "cell_type": "code",
      "source": [],
      "metadata": {
        "id": "sKJgZbGr1Uvm"
      },
      "execution_count": null,
      "outputs": []
    },
    {
      "cell_type": "code",
      "source": [
        "g=5\n",
        "print(g)\n",
        "print(g,type(g))"
      ],
      "metadata": {
        "id": "IZJtVq5BBQWa"
      },
      "execution_count": null,
      "outputs": []
    },
    {
      "cell_type": "code",
      "source": [
        "from typing_extensions import Type\n",
        "x=\"Hello world\"\n",
        "print(x)\n",
        "print(x,type(x))"
      ],
      "metadata": {
        "id": "NkTOaCfvBofB"
      },
      "execution_count": null,
      "outputs": []
    },
    {
      "cell_type": "code",
      "source": [
        "y=3.5\n",
        "print(y)\n",
        "print(y,type(y))"
      ],
      "metadata": {
        "id": "BgCVbidTB_50"
      },
      "execution_count": null,
      "outputs": []
    },
    {
      "cell_type": "code",
      "source": [
        "x=\"True\"\n",
        "print(x)\n",
        "print(x,type(x))"
      ],
      "metadata": {
        "id": "8ppgYpM8Demy"
      },
      "execution_count": null,
      "outputs": []
    },
    {
      "cell_type": "code",
      "source": [
        "x=True\n",
        "print(x,type(x))"
      ],
      "metadata": {
        "id": "3YH_R4vMD28p"
      },
      "execution_count": null,
      "outputs": []
    },
    {
      "cell_type": "code",
      "source": [],
      "metadata": {
        "id": "vx_H4ACfEDlf"
      },
      "execution_count": null,
      "outputs": []
    },
    {
      "cell_type": "markdown",
      "source": [
        "**Lists**"
      ],
      "metadata": {
        "id": "Mr66A77zESpL"
      }
    },
    {
      "cell_type": "markdown",
      "source": [
        "Lists are an ordered, mutable (changeable) collection of values that are comma separated and enclosed by square brackets. A list can be comprised of many different types of variables. Below is a list with an integer, string and a float\n"
      ],
      "metadata": {
        "id": "JK6PYvHjEYbP"
      }
    },
    {
      "cell_type": "code",
      "source": [
        "x=[2,\"Shah\",3,4,\"apple\"]\n",
        "print(x)\n",
        "print(x,type(x))"
      ],
      "metadata": {
        "id": "f0pTsqjfEaNR"
      },
      "execution_count": null,
      "outputs": []
    },
    {
      "cell_type": "code",
      "source": [
        "# Length of a list\n",
        "len(x)"
      ],
      "metadata": {
        "id": "i91mMjN1Emi6"
      },
      "execution_count": null,
      "outputs": []
    },
    {
      "cell_type": "code",
      "source": [
        "print(x,len(x))"
      ],
      "metadata": {
        "id": "iVda37QeE3Za"
      },
      "execution_count": null,
      "outputs": []
    },
    {
      "cell_type": "code",
      "source": [
        "# easily replace existing items:\n",
        "x[0]=3\n",
        "x[1]=\"gul\"\n",
        "x[2]=2\n",
        "print(x)"
      ],
      "metadata": {
        "id": "WfFEIvQnE7af"
      },
      "execution_count": null,
      "outputs": []
    },
    {
      "cell_type": "code",
      "source": [
        "print(x)\n"
      ],
      "metadata": {
        "id": "B-yQhFbFFY3k"
      },
      "execution_count": null,
      "outputs": []
    },
    {
      "cell_type": "code",
      "source": [
        "x[0], x[1],x[2],x[3],x[4]"
      ],
      "metadata": {
        "id": "e1mO456yFbGb"
      },
      "execution_count": null,
      "outputs": []
    },
    {
      "cell_type": "code",
      "source": [
        "x[-1],x[-2],x[-3],x[-4],x[-5]"
      ],
      "metadata": {
        "id": "AWdDgWxsG7tA"
      },
      "execution_count": null,
      "outputs": []
    },
    {
      "cell_type": "code",
      "source": [
        "x[0]=2\n",
        "x[1]=3\n",
        "x[2]=\"apple\"\n",
        "x[3]=\"gul\"\n",
        "x[4]=4"
      ],
      "metadata": {
        "id": "avXucKvVHN6Z"
      },
      "execution_count": null,
      "outputs": []
    },
    {
      "cell_type": "code",
      "source": [
        "print(x)"
      ],
      "metadata": {
        "id": "KrJoBiDuHqQ6"
      },
      "execution_count": null,
      "outputs": []
    },
    {
      "cell_type": "code",
      "source": [
        "xx=[2,4,6,8,10]"
      ],
      "metadata": {
        "id": "Qzlptta-Hsja"
      },
      "execution_count": null,
      "outputs": []
    },
    {
      "cell_type": "code",
      "source": [
        "print(xx)"
      ],
      "metadata": {
        "id": "t4ouNef8IwYC"
      },
      "execution_count": null,
      "outputs": []
    },
    {
      "cell_type": "code",
      "source": [
        "print(xx,type(xx))"
      ],
      "metadata": {
        "id": "O5v_-In1IztY"
      },
      "execution_count": null,
      "outputs": []
    },
    {
      "cell_type": "code",
      "source": [
        "xx[4]=12\n",
        "print(x)\n",
        "print(xx)"
      ],
      "metadata": {
        "id": "g4YpDwuNI32Y"
      },
      "execution_count": null,
      "outputs": []
    },
    {
      "cell_type": "code",
      "source": [
        "z=x+xx\n",
        "print(z)"
      ],
      "metadata": {
        "id": "3zfGrRReJFgi"
      },
      "execution_count": null,
      "outputs": []
    },
    {
      "cell_type": "code",
      "source": [
        "def Union(x,xx):\n",
        "  final_list=x+xx\n",
        "  return final_list"
      ],
      "metadata": {
        "id": "I_RZSFBpKTKV"
      },
      "execution_count": null,
      "outputs": []
    },
    {
      "cell_type": "code",
      "source": [
        "print(Union(x,xx))"
      ],
      "metadata": {
        "id": "fDz6va0hLZoc"
      },
      "execution_count": null,
      "outputs": []
    },
    {
      "cell_type": "code",
      "source": [],
      "metadata": {
        "id": "cgiZhv8tLmD2"
      },
      "execution_count": null,
      "outputs": []
    },
    {
      "cell_type": "markdown",
      "source": [
        "*Tuples*"
      ],
      "metadata": {
        "id": "OOYQf7rPLx0B"
      }
    },
    {
      "cell_type": "code",
      "source": [
        "# **Tuples are collections that are ordered and immutable (unchangeable). We will use tuples to store values that will never be changed.**"
      ],
      "metadata": {
        "id": "msV39n4mMl9A"
      },
      "execution_count": null,
      "outputs": []
    },
    {
      "cell_type": "code",
      "source": [
        "# Creating a tuple\n",
        "x=(3,0.5, \"nice\")"
      ],
      "metadata": {
        "id": "OR64MXTIMeJr"
      },
      "execution_count": null,
      "outputs": []
    },
    {
      "cell_type": "code",
      "source": [
        "print(x)"
      ],
      "metadata": {
        "id": "Uu1hFCfeMjrK"
      },
      "execution_count": null,
      "outputs": []
    },
    {
      "cell_type": "code",
      "source": [
        "print(x,type(x))"
      ],
      "metadata": {
        "id": "IZ9CBrq6NCTX"
      },
      "execution_count": null,
      "outputs": []
    },
    {
      "cell_type": "code",
      "source": [
        "x=x+(\"h\",.6,7)\n",
        "print(x)"
      ],
      "metadata": {
        "id": "01bi3eGNNFnQ"
      },
      "execution_count": null,
      "outputs": []
    },
    {
      "cell_type": "markdown",
      "source": [
        "Sets\n"
      ],
      "metadata": {
        "id": "DisT7YM_RxDF"
      }
    },
    {
      "cell_type": "markdown",
      "source": [
        "Sets are collections that are unordered and mutable. However, every item in a set much be unique"
      ],
      "metadata": {
        "id": "1iLpeo8uSF_g"
      }
    },
    {
      "cell_type": "code",
      "source": [
        "import tensorflow as tf\n",
        "print(\"TensorFlow version:\", tf.__version__)"
      ],
      "metadata": {
        "id": "6BmMZtUuSG5-"
      },
      "execution_count": null,
      "outputs": []
    },
    {
      "cell_type": "code",
      "source": [],
      "metadata": {
        "id": "3M88NgKObvQj"
      },
      "execution_count": null,
      "outputs": []
    },
    {
      "cell_type": "markdown",
      "source": [
        "**This short introduction Keras to:**\n"
      ],
      "metadata": {
        "id": "SwxK-xIp4psb"
      }
    },
    {
      "cell_type": "markdown",
      "source": [
        "*Load prebuilt data set\n",
        "*Build a neural network machine learning model that classify images.\n",
        "*Train this neural network.\n",
        "*evaluate the accuracy of this model."
      ],
      "metadata": {
        "id": "0Uv7AjrC4veI"
      }
    },
    {
      "cell_type": "markdown",
      "source": [
        "**Set up TensorFLow**"
      ],
      "metadata": {
        "id": "QYYoGlzH7Z30"
      }
    },
    {
      "cell_type": "code",
      "source": [
        "import tensorflow as tf\n",
        "print(\"tensorflow version\", tf.__version__)"
      ],
      "metadata": {
        "id": "3CgBNvAZ4zd8"
      },
      "execution_count": null,
      "outputs": []
    },
    {
      "cell_type": "code",
      "source": [
        "!python__version"
      ],
      "metadata": {
        "id": "d1SWr6RQ6h7F"
      },
      "execution_count": null,
      "outputs": []
    },
    {
      "cell_type": "code",
      "source": [],
      "metadata": {
        "id": "nyqeJ4XL7AgA"
      },
      "execution_count": null,
      "outputs": []
    },
    {
      "cell_type": "markdown",
      "source": [
        "**Load Data Set**"
      ],
      "metadata": {
        "id": "niLvoCXM70Vf"
      }
    },
    {
      "cell_type": "code",
      "source": [
        "mninst=tf.keras.datasets.mnist\n"
      ],
      "metadata": {
        "id": "GgFdvQwP722E"
      },
      "execution_count": null,
      "outputs": []
    },
    {
      "cell_type": "code",
      "source": [
        "mnist=tf.keras.datasets.mnist\n",
        "(x_train, y_train), (x_test, y_test) = mnist.load_data()\n",
        "x_train, x_test =x_train/255.0, x_test/255.0"
      ],
      "metadata": {
        "id": "GJnDmzWl9M4p"
      },
      "execution_count": null,
      "outputs": []
    },
    {
      "cell_type": "markdown",
      "source": [],
      "metadata": {
        "id": "f7SH4ZndALk7"
      }
    },
    {
      "cell_type": "markdown",
      "source": [
        "**Set**"
      ],
      "metadata": {
        "id": "bqle2DHkALw0"
      }
    },
    {
      "cell_type": "code",
      "source": [],
      "metadata": {
        "id": "801lKyliANsz"
      },
      "execution_count": null,
      "outputs": []
    },
    {
      "cell_type": "markdown",
      "source": [
        "Sets are collections that are unorder and mutable. However, every element in the set must be unique"
      ],
      "metadata": {
        "id": "wgqLwCmMASvZ"
      }
    },
    {
      "cell_type": "code",
      "source": [
        "text=\"Learn ML with Made with ML\"\n"
      ],
      "metadata": {
        "id": "8AwC9gFcAf6i"
      },
      "execution_count": null,
      "outputs": []
    },
    {
      "cell_type": "code",
      "source": [
        "print(set(text.split(\" \")))"
      ],
      "metadata": {
        "id": "Yf_fJlSQBAjc"
      },
      "execution_count": null,
      "outputs": []
    },
    {
      "cell_type": "code",
      "source": [
        "print('text')"
      ],
      "metadata": {
        "id": "O_ZFQK-eA4Po"
      },
      "execution_count": null,
      "outputs": []
    },
    {
      "cell_type": "code",
      "source": [
        "print(set(text))"
      ],
      "metadata": {
        "id": "TYtrUBqfA8G3"
      },
      "execution_count": null,
      "outputs": []
    },
    {
      "cell_type": "code",
      "source": [],
      "metadata": {
        "id": "rG-GrTEDBTuj"
      },
      "execution_count": null,
      "outputs": []
    },
    {
      "cell_type": "markdown",
      "source": [
        "**Indexing and Slicing**"
      ],
      "metadata": {
        "id": "mnxfeLdtCda5"
      }
    },
    {
      "cell_type": "markdown",
      "source": [
        "Indexing and slicing from the list allow to retrieve specific values with in lists. indexing can be positive or negative."
      ],
      "metadata": {
        "id": "M1pdrXMbCk0i"
      }
    },
    {
      "cell_type": "code",
      "source": [
        "# Indexing\n",
        "x=[2, 'hello',3]"
      ],
      "metadata": {
        "id": "91ljN8gJC-9-"
      },
      "execution_count": null,
      "outputs": []
    },
    {
      "cell_type": "code",
      "source": [
        "# 0 to 2 from the left side position, and from -1 to -3 from the righ side\n",
        "print(x[0])\n",
        "print(x[1])\n",
        "print(x[2])\n",
        "print(x[-1])\n",
        "print(x[-2])\n",
        "print(x[-3])"
      ],
      "metadata": {
        "id": "yjyUJy1_DMeT"
      },
      "execution_count": null,
      "outputs": []
    },
    {
      "cell_type": "code",
      "source": [
        "# Slicing\n",
        "print(x[:])\n",
        "print(x[0:])\n",
        "print(x[1:])\n",
        "print(x[2:])\n",
        "print(x[:-1])\n",
        "print(x[:-2])\n",
        "print(x[:-3])"
      ],
      "metadata": {
        "id": "FXsazbZzDXfL"
      },
      "execution_count": null,
      "outputs": []
    },
    {
      "cell_type": "markdown",
      "source": [
        "Though this does produce results, we should always explicitly use the length of the list to index items from it to avoid incorrect assumptions for downstream processes."
      ],
      "metadata": {
        "id": "w-kN5qWNF76g"
      }
    },
    {
      "cell_type": "markdown",
      "source": [
        "**Dictionaries**"
      ],
      "metadata": {
        "id": "HmulVa4ZJDjb"
      }
    },
    {
      "cell_type": "code",
      "source": [
        "## Creating a dictionary\n",
        "person={'Name':'Shah',\n",
        "         'Eye-color': 'Greenish'}\n",
        "print(person)"
      ],
      "metadata": {
        "id": "k8qxjRIxJGtG"
      },
      "execution_count": null,
      "outputs": []
    },
    {
      "cell_type": "code",
      "source": [
        "print(person['Name'])\n",
        "print(person['Eye-color'])"
      ],
      "metadata": {
        "id": "VOkH61h1JQ1d"
      },
      "execution_count": null,
      "outputs": []
    },
    {
      "cell_type": "code",
      "source": [
        "# # Changing the value for a key\n",
        "person['Eye-color']=\"Black\"\n",
        "print(person)"
      ],
      "metadata": {
        "id": "jUbtVk-UKDdn"
      },
      "execution_count": null,
      "outputs": []
    },
    {
      "cell_type": "code",
      "source": [
        "# # Adding new key-value pairs\n",
        "person['age']=25\n",
        "print(person)"
      ],
      "metadata": {
        "id": "rvLdY8pKKuA5"
      },
      "execution_count": null,
      "outputs": []
    },
    {
      "cell_type": "code",
      "source": [
        "# Length of a dictionary\n",
        "print(len(person))"
      ],
      "metadata": {
        "id": "2HVnt9IqLETK"
      },
      "execution_count": null,
      "outputs": []
    },
    {
      "cell_type": "code",
      "source": [
        "# native dic\n",
        "from collections import OrderedDict\n",
        "d={}\n",
        "d['a']=3\n",
        "d['b']=2\n",
        "d['c']=1\n",
        "print(d)"
      ],
      "metadata": {
        "id": "zeNmRQIdLWjI"
      },
      "execution_count": null,
      "outputs": []
    },
    {
      "cell_type": "code",
      "source": [
        "# Dictionary items\n",
        "print(d.items())"
      ],
      "metadata": {
        "id": "rTNaYThvMYpA"
      },
      "execution_count": null,
      "outputs": []
    },
    {
      "cell_type": "code",
      "source": [
        "# Order by values\n",
        "print(OrderedDict(sorted(d.items(), key=lambda x:x[1])))"
      ],
      "metadata": {
        "id": "jbWmZHFzNIoU"
      },
      "execution_count": null,
      "outputs": []
    },
    {
      "cell_type": "code",
      "source": [
        "# order by keys\n",
        "print (OrderedDict(sorted(d.items())))"
      ],
      "metadata": {
        "id": "wdrKI_UYNqT-"
      },
      "execution_count": null,
      "outputs": []
    },
    {
      "cell_type": "markdown",
      "source": [
        "**If statements**"
      ],
      "metadata": {
        "id": "JWGDASnPOzZR"
      }
    },
    {
      "cell_type": "code",
      "source": [
        "!pwd"
      ],
      "metadata": {
        "id": "Sbva0Dr6O28O"
      },
      "execution_count": null,
      "outputs": []
    },
    {
      "cell_type": "markdown",
      "source": [
        "While loop:\n",
        "A while loop can perform repeatedly as long as a condition is True. We can use continue and break commands in while loops as well"
      ],
      "metadata": {
        "id": "XwZ8Yhg5ggD0"
      }
    },
    {
      "cell_type": "code",
      "source": [
        "g=3\n",
        "while g>0:\n",
        "   g-=1\n",
        "  #  sam as x=x-2\n",
        "print(g)"
      ],
      "metadata": {
        "id": "XpdTZLzeQcyG"
      },
      "execution_count": null,
      "outputs": []
    },
    {
      "cell_type": "code",
      "source": [
        "x=3\n",
        "while x>0:\n",
        "  x-=1\n",
        "  # x=x-1\n",
        "  print(x)"
      ],
      "metadata": {
        "id": "wc6tLHUlhF-A"
      },
      "execution_count": null,
      "outputs": []
    },
    {
      "cell_type": "code",
      "source": [
        "g=3\n",
        "while g>0 g<1:\n",
        "  g-=4\n",
        "  print(g)"
      ],
      "metadata": {
        "id": "t1h4Y5W-jhzA"
      },
      "execution_count": null,
      "outputs": []
    },
    {
      "cell_type": "code",
      "source": [
        "def add(a, b):\n",
        "    result = a + b\n",
        "    return result\n",
        "\n",
        "print(add(2, 9))"
      ],
      "metadata": {
        "id": "vVcL_BC6BB_A"
      },
      "execution_count": null,
      "outputs": []
    },
    {
      "cell_type": "markdown",
      "source": [
        "EXAMPLE: Modify my_adder to throw out a warning if the user does not input numerical values.Try your function for nonnumerical inputs to show that the check works. When a statement is too long, we can use the “\\” symbol to break a line into multiple lines."
      ],
      "metadata": {
        "id": "rn2VpIQGgv3N"
      }
    },
    {
      "cell_type": "code",
      "source": [
        "def my_adder(a,b,c):\n",
        "  \"\"\"Calculate the sum of three numbers\n",
        "  author\n",
        "date\n",
        "\"\"\"\n",
        "# # Check for erroneous input\n",
        "  if not (isinstance(a, (int, float))\\\n",
        "          or isinstance(b, (int, float))\\\n",
        "          or isinstance(c, (int, float))):\n",
        "          raise TypeError(\"inputs must be numbers\")\n",
        "      # return output\n",
        "    return a+b+c\n",
        "z=my_adder(1,3,2)\n",
        "print(z)"
      ],
      "metadata": {
        "id": "Vu3jnj5zBCzq"
      },
      "execution_count": null,
      "outputs": []
    },
    {
      "cell_type": "markdown",
      "source": [
        "TRY IT! Write a function called is_odd that returns \"odd\" if the input is an odd number and \"even\" if it is even. You can assume that input will be a positive integer."
      ],
      "metadata": {
        "id": "mNEm2OWSlXGc"
      }
    },
    {
      "cell_type": "code",
      "source": [],
      "metadata": {
        "id": "_TocZ5sfuXbm"
      },
      "execution_count": null,
      "outputs": []
    },
    {
      "cell_type": "code",
      "source": [
        "def is_odd(number):\n",
        "  \"ffunction return odd if input is odd\"\n",
        "  if number % 2 ==0:\n",
        "    return \"Even\"\n",
        "  else:\n",
        "         return \"Odd\"\n",
        "is_odd(6)\n"
      ],
      "metadata": {
        "id": "cgEJyzL-lcJ3"
      },
      "execution_count": null,
      "outputs": []
    },
    {
      "cell_type": "code",
      "source": [
        "import matplotlib.pyplot as plt\n",
        "\n",
        "def create_dict_and_plot(x, y):\n",
        "    data_dict = dict(zip(x, y))\n",
        "\n",
        "    plt.scatter(x, y)\n",
        "    plt.xlabel('x')\n",
        "    plt.ylabel('y')\n",
        "    plt.title('Data Points')\n",
        "    plt.show()\n",
        "\n",
        "    return data_dict\n",
        "\n",
        "# Example usage:\n",
        "x = [0, 1, 2, 3, 4, 5]\n",
        "y = [12, 14, 22, 39, 58, 77]\n",
        "\n",
        "result_dict = create_dict_and_plot(x, y)\n",
        "print(result_dict)  # Output: {0: 12, 1: 14, 2: 22, 3: 39, 4: 58, 5: 77}"
      ],
      "metadata": {
        "id": "-mz3KAynGFwG"
      },
      "execution_count": null,
      "outputs": []
    },
    {
      "cell_type": "code",
      "source": [
        "import numpy as np\n",
        "from scipy.interpolate import UnivariateSpline\n",
        "\n",
        "# Generate some noisy data\n",
        "x = np.linspace(0.1, 1, 10)\n",
        "y = 1/x**2\n",
        "\n",
        "# Fit a cubic spline to the data\n",
        "spline = UnivariateSpline(x, y, k=3)\n",
        "\n",
        "# Generate some points at a higher resolution\n",
        "x_interp = np.linspace(0, 1, 10)\n",
        "y_interp = spline(x_interp)\n",
        "\n",
        "# Plot the original data and the spline fit\n",
        "import matplotlib.pyplot as plt\n",
        "\n",
        "plt.scatter(x, y)\n",
        "plt.plot(x_interp, y_interp)\n",
        "plt.show()"
      ],
      "metadata": {
        "id": "Ou4LmeDnTnTT"
      },
      "execution_count": null,
      "outputs": []
    },
    {
      "cell_type": "code",
      "source": [
        "import numpy as np\n",
        "from scipy.interpolate import UnivariateSpline\n",
        "\n",
        "# Generate some time-series data\n",
        "x = np.arange(100)\n",
        "y = np.sin(x / 10) + np.random.normal(size=100) * 0.1\n",
        "\n",
        "# Fit a cubic spline to the data\n",
        "spline = UnivariateSpline(x, y, k=3)\n",
        "\n",
        "# Make predictions at future time-points\n",
        "x_pred = np.arange(100, 120)\n",
        "y_pred = spline(x_pred)\n",
        "\n",
        "# Plot the original data and the spline predictions\n",
        "import matplotlib.pyplot as plt\n",
        "\n",
        "plt.plot(x, y)\n",
        "plt.plot(x_pred, y_pred)\n",
        "plt.show()"
      ],
      "metadata": {
        "id": "jrpk-iysUh95"
      },
      "execution_count": null,
      "outputs": []
    },
    {
      "cell_type": "code",
      "source": [
        "import numpy as np\n",
        "from scipy.interpolate import BSpline\n",
        "from sklearn.linear_model import LinearRegression\n",
        "\n",
        "# Generate some data\n",
        "x = np.random.normal(size=100)\n",
        "y = np.sin(x) + np.random.normal(size=100) * 0.1\n",
        "\n",
        "# Create a B-spline basis\n",
        "knots = np.linspace(-3, 3, 20)\n",
        "basis = BSpline(knots, np.eye(20), k=3)\n",
        "\n",
        "# Fit a linear regression model with splines\n",
        "X = basis(x)\n",
        "model = LinearRegression()\n",
        "model.fit(X, y)\n",
        "\n",
        "# Make predictions\n",
        "x_pred = np.linspace(-3, 3, 100)\n",
        "X_pred = basis(x_pred)\n",
        "y_pred = model.predict(X_pred)\n",
        "\n",
        "# Plot the original data and the regression predictions\n",
        "import matplotlib.pyplot as plt\n",
        "\n",
        "plt.scatter(x, y)\n",
        "plt.plot(x_pred, y_pred)\n",
        "plt.show()"
      ],
      "metadata": {
        "id": "vu6ug9qIVCs4"
      },
      "execution_count": null,
      "outputs": []
    },
    {
      "cell_type": "code",
      "source": [
        "!pip install tensorflow-object-detection-api"
      ],
      "metadata": {
        "id": "fpOb27Pk2_QJ"
      },
      "execution_count": null,
      "outputs": []
    },
    {
      "cell_type": "code",
      "source": [
        "# Import required modules\n",
        "import tensorflow as tf\n",
        "import os\n",
        "import cv2\n",
        "import numpy as np\n",
        "from object_detection.utils import visualization_utils as vis_util\n",
        "from object_detection.utils import label_map_util\n",
        "\n",
        "# Define paths and parameters\n",
        "PATH_TO_CKPT = 'path/to/frozen_inference_graph.pb'\n",
        "PATH_TO_LABELS = 'path/to/label_map.pbtxt'\n",
        "NUM_CLASSES = 1\n",
        "CONFIDENCE_THRESHOLD = 0.5\n",
        "\n",
        "# Load frozen inference graph and label map\n",
        "detection_graph = tf.Graph()\n",
        "with detection_graph.as_default():\n",
        "    od_graph_def = tf.compat.v1.GraphDef()\n",
        "    with tf.io.gfile.GFile(PATH_TO_CKPT, 'rb') as fid:\n",
        "        serialized_graph = fid.read()\n",
        "        od_graph_def.ParseFromString(serialized_graph)\n",
        "        tf.import_graph_def(od_graph_def, name='')\n",
        "label_map = label_map_util.load_labelmap(PATH_TO_LABELS)\n",
        "categories = label_map_util.convert_label_map_to_categories(label_map, max_num_classes=NUM_CLASSES, use_display_name=True)\n",
        "category_index = label_map_util.create_category_index(categories)\n",
        "\n",
        "# Define detection function\n",
        "def detect_objects(image_np, sess, detection_graph):\n",
        "    # Expand dimensions to create 1-batch of 1-channel image\n",
        "    image_np_expanded = np.expand_dims(image_np, axis=0)\n",
        "    image_tensor = detection_graph.get_tensor_by_name('image_tensor:0')\n",
        "    boxes = detection_graph.get_tensor_by_name('detection_boxes:0')\n",
        "    scores = detection_graph.get_tensor_by_name('detection_scores:0')\n",
        "    classes = detection_graph.get_tensor_by_name('detection_classes:0')\n",
        "    num_detections = detection_graph.get_tensor_by_name('num_detections:0')\n",
        "    # Run inference and extract detected objects\n",
        "    (boxes, scores, classes, num_detections) = sess.run([boxes, scores, classes, num_detections], feed_dict={image_tensor: image_np_expanded})\n",
        "    boxes = np.squeeze(boxes)\n",
        "    scores = np.squeeze(scores)\n",
        "    classes = np.squeeze(classes).astype(np.int32)\n",
        "    # Filter out low confidence detections\n",
        "    indices = np.where(scores > CONFIDENCE_THRESHOLD)[0]\n",
        "    boxes = boxes[indices]\n",
        "    classes = classes[indices]\n",
        "    scores = scores[indices]\n",
        "    # Visualize detections on image\n",
        "    vis_util.visualize_boxes_and_labels_on_image_array(\n",
        "        image_np,\n",
        "        boxes,\n",
        "        classes,\n",
        "        scores,\n",
        "        category_index,\n",
        "        use_normalized_coordinates=True,\n",
        "        line_thickness=8)\n",
        "    return image_np\n",
        "\n",
        "# Define main function\n",
        "def main():\n",
        "    # Load test image\n",
        "    image = cv2.imread('path/to/test/image.jpg')\n",
        "    # Initialize TensorFlow session\n",
        "    with detection_graph.as_default():\n",
        "        with tf.compat.v1.Session(graph=detection_graph) as sess:\n",
        "            # Detect objects in image\n",
        "            image_with_detections = detect_objects(image, sess, detection_graph)\n",
        "            # Display result\n",
        "            cv2.imshow('Object Detection', image_with_detections)\n",
        "            cv2.waitKey(0)\n",
        "\n",
        "if __name__ == '__main__':\n",
        "    main()\n"
      ],
      "metadata": {
        "id": "ZTFLpYve4XBj"
      },
      "execution_count": null,
      "outputs": []
    },
    {
      "cell_type": "code",
      "source": [
        "def eq5(M, D):\n",
        "    return M[-4] + 76*M[-3] + 255*M[-2] + 52*M[-1] - D[-2]\n",
        "\n",
        "def spline_curve(x_data, y_data, a, b):\n",
        "    # Construct the matrix of known data points\n",
        "    D = np.concatenate(([a], y_data, [b]))\n",
        "\n",
        "    # Set up the initial guess for the control points\n",
        "    M0 = np.zeros(len(y_data) + 2)\n",
        "    M0[0] = (D[1] - D[0]) / 386\n",
        "    M0[1] = (D[2] - D[0]) / 386\n",
        "\n",
        "    # Define the equations as a list of functions\n",
        "    equations = [eq1, eq2] + [lambda M, D, i=i: eq3(M, D, i) for i in range(4, len(y_data)-2)] + [eq4, eq5]\n",
        "\n",
        "    # Use curve_fit to solve the system of equations and find the optimal control points\n",
        "    M, _ = curve_fit(lambda M, *args: [eq(M, *args) for eq in equations], M0, D)\n",
        "\n",
        "    # Construct the spline curve using the control points\n",
        "    tck = splrep(x_data, M[1:-1])\n",
        "    x_spline = np.linspace(x_data[0], x_data[-1], 1000)\n",
        "    y_spline = splev(x_spline, tck)\n",
        "\n",
        "    return x_spline, y_spline"
      ],
      "metadata": {
        "id": "AalJYEZeWGaL"
      },
      "execution_count": null,
      "outputs": []
    },
    {
      "cell_type": "code",
      "source": [
        "import matplotlib.pyplot as plt\n",
        "import numpy as np\n",
        "\n",
        "x = np.random.randn(100)\n",
        "y = np.random.randn(100)\n",
        "c = np.random.rand(100)\n",
        "\n",
        "plt.scatter(x, y, c=c, cmap='viridis')\n",
        "plt.colorbar()\n",
        "plt.show()\n"
      ],
      "metadata": {
        "id": "XxABHu7OYv6-"
      },
      "execution_count": null,
      "outputs": []
    },
    {
      "cell_type": "code",
      "source": [
        "import numpy as np\n",
        "from scipy import integrate\n",
        "\n",
        "# define the functions H(), I(), and Kσ()\n",
        "def H(x):\n",
        "    return # define the H function\n",
        "\n",
        "def I(x, y):\n",
        "    return # define the I function\n",
        "\n",
        "def Kσ(x):\n",
        "    return # define the Kσ function\n",
        "\n",
        "# define the values of u and f\n",
        "u11 = integrate.nquad(lambda x, y: I(x, y)*H(ϕ1(x))*H(ϕ2(x)), [(xmin, xmax), (ymin, ymax)])[0] / \\\n",
        "      integrate.nquad(lambda x, y: H(ϕ1(x))*H(ϕ2(x)), [(xmin, xmax), (ymin, ymax)])[0]\n",
        "\n",
        "u10 = integrate.nquad(lambda x, y: I(x, y)*H(ϕ1(x))*(1-H(ϕ2(x))), [(xmin, xmax), (ymin, ymax)])[0] / \\\n",
        "      integrate.nquad(lambda x, y: H(ϕ1(x))*(1-H(ϕ2(x))), [(xmin, xmax), (ymin, ymax)])[0]\n",
        "\n",
        "u01 = integrate.nquad(lambda x, y: I(x, y)*(1-H(ϕ1(x)))*H(ϕ2(x)), [(xmin, xmax), (ymin, ymax)])[0] / \\\n",
        "      integrate.nquad(lambda x, y: (1-H(ϕ1(x)))*H(ϕ2(x)), [(xmin, xmax), (ymin, ymax)])[0]\n",
        "\n",
        "u00 = integrate.nquad(lambda x, y: I(x, y)*(1-H(ϕ1(x)))*(1-H(ϕ2(x))), [(xmin, xmax), (ymin, ymax)])[0] / \\\n",
        "      integrate.nquad(lambda x, y: (1-H(ϕ1(x)))*(1-H(ϕ2(x))), [(xmin, xmax), (ymin, ymax)])[0]\n",
        "\n",
        "f11 = lambda x: Kσ(x) * (H(ϕ1(x))*H(ϕ2(x))*I(x)) / (Kσ(x) * H(ϕ1(x))*H(ϕ2(x)))\n",
        "f10 = lambda x: Kσ(x) * (H(ϕ1(x))*(1-H(ϕ2(x)))*I(x)) / (Kσ(x) * H(ϕ1(x))*(1-H(ϕ2(x))))\n",
        "f01 = lambda x: Kσ(x) * ((1-H(ϕ1(x)))*H(ϕ2(x))*I(x)) / (Kσ(x) * (1-H(ϕ1(x)))*H(ϕ2(x)))\n",
        "f00 = lambda x: Kσ(x) * ((1-H(ϕ1(x)))*(1-H(ϕ2(x)))*I(x)) / (Kσ(x) * (1-H(ϕ1(x)))*(1-H(ϕ2(x))))\n",
        "\n",
        "# define the parameters μ and λ\n",
        "μ = # define the value of μ\n",
        "λ = # define the value of λ\n",
        "\n",
        "# define the integrand of the equation\n",
        "def integrand(x, y):\n",
        "    return (np.abs(np.gradient(H(ϕ1(x)))) + μ*np.abs(np.gradient(H(ϕ2(x)))) +\n",
        "            (I(x, y) - (λ*f11(x) + (1-λ)*u11))**2 * H(ϕ1(x)) * H(ϕ2(x)) +\n"
      ],
      "metadata": {
        "id": "EuvOmwbdg359"
      },
      "execution_count": null,
      "outputs": []
    },
    {
      "cell_type": "code",
      "source": [
        "import numpy as np\n",
        "import matplotlib.pyplot as plt\n",
        "\n",
        "# define constants\n",
        "delta = 1\n",
        "epsilon = 1\n",
        "nu = 1\n",
        "lamda = 1\n",
        "\n",
        "# define the image function I(x,y)\n",
        "def I(x,y):\n",
        "    # insert code to define I(x,y) here\n",
        "    pass\n",
        "\n",
        "# define the level set functions phi1 and phi2\n",
        "def phi1(x,y):\n",
        "    # insert code to define phi1(x,y) here\n",
        "    pass\n",
        "\n",
        "def phi2(x,y):\n",
        "    # insert code to define phi2(x,y) here\n",
        "    pass\n",
        "\n",
        "# define the Heaviside function H\n",
        "def H(x):\n",
        "    return np.where(x >= 0, 1, 0)\n",
        "\n",
        "# define the kernel function K_sigma\n",
        "def K_sigma(x):\n",
        "    # insert code to define K_sigma(x) here\n",
        "    pass\n",
        "\n",
        "# define the functions u11, u10, u01, u00\n",
        "def u11():\n",
        "    # insert code to calculate u11 here\n",
        "    pass\n",
        "\n",
        "def u10():\n",
        "    # insert code to calculate u10 here\n",
        "    pass\n",
        "\n",
        "def u01():\n",
        "    # insert code to calculate u01 here\n",
        "    pass\n",
        "\n",
        "def u00():\n",
        "    # insert code to calculate u00 here\n",
        "    pass\n",
        "\n",
        "# define the functions f11, f10, f01, f00\n",
        "def f11(x,y):\n",
        "    # insert code to calculate f11(x,y) here\n",
        "    pass\n",
        "\n",
        "def f10(x,y):\n",
        "    # insert code to calculate f10(x,y) here\n",
        "    pass\n",
        "\n",
        "def f01(x,y):\n",
        "    # insert code to calculate f01(x,y) here\n",
        "    pass\n",
        "\n",
        "def f00(x,y):\n",
        "    # insert code to calculate f00(x,y) here\n",
        "    pass\n",
        "\n",
        "# define the differential equations\n",
        "def dphi1_dt(phi1, phi2):\n",
        "    # insert code to calculate dphi1_dt here\n",
        "    pass\n",
        "\n",
        "def dphi2_dt(phi1, phi2):\n",
        "    # insert code to calculate dphi2_dt here\n",
        "    pass\n"
      ],
      "metadata": {
        "id": "2vKOPx0lhW__"
      },
      "execution_count": null,
      "outputs": []
    },
    {
      "cell_type": "code",
      "source": [
        "x = np.linspace(-10, 10, 100)\n",
        "y = np.linspace(-10, 10, 100)\n",
        "X, Y = np.meshgrid(x, y)\n"
      ],
      "metadata": {
        "id": "U466icCJhhG4"
      },
      "execution_count": null,
      "outputs": []
    },
    {
      "cell_type": "code",
      "source": [
        "phi1_vals = phi1(X, Y)\n",
        "phi2_vals = phi2(X, Y)\n",
        "\n",
        "dphi1_dt_vals = dphi1_dt(phi1_vals, phi2_vals)\n",
        "dphi2_dt_vals = dphi2_dt(phi1_vals, phi2_vals)\n"
      ],
      "metadata": {
        "id": "Bkoxc6WShqT4"
      },
      "execution_count": null,
      "outputs": []
    },
    {
      "cell_type": "code",
      "source": [
        "pip install tpot"
      ],
      "metadata": {
        "id": "d1RLeH14hEDR"
      },
      "execution_count": null,
      "outputs": []
    },
    {
      "cell_type": "code",
      "source": [
        "import pandas as pd\n",
        "from sklearn.model_selection import train_test_split, cross_val_score\n",
        "from sklearn.ensemble import RandomForestRegressor\n",
        "from tpot import TPOTRegressor\n",
        "import matplotlib.pyplot as plt\n",
        "\n",
        "# Define the data\n",
        "x = [1, 2, 3]\n",
        "y = [2, 4, 6]\n",
        "\n",
        "# Create a DataFrame from the data\n",
        "data = pd.DataFrame({'x': x, 'y': y})\n",
        "\n",
        "# Create a scatter plot of the data\n",
        "plt.scatter(data['x'], data['y'])\n",
        "plt.xlabel('X-axis')\n",
        "plt.ylabel('Y-axis')\n",
        "plt.title('Scatter Plot of Data')\n",
        "\n",
        "# Perform AutoML with TPOT\n",
        "X_train, X_test, y_train, y_test = train_test_split(data.drop('y', axis=1), data['y'], test_size=0.3, random_state=42)\n",
        "tpot = TPOTRegressor(generations=5, population_size=50, verbosity=2, random_state=42)\n",
        "tpot.fit(X_train, y_train)\n",
        "accuracy = tpot.score(X_test, y_test)\n",
        "print('Accuracy:', accuracy)\n",
        "\n",
        "# Get the best pipeline found by TPOT and predict the values of y\n",
        "best_pipeline = tpot.fitted_pipeline_\n",
        "predicted_y = best_pipeline.predict(data.drop('y', axis=1))\n",
        "\n",
        "# Add the predicted values to the scatter plot\n",
        "plt.plot(data['x'], predicted_y, color='red', label='Predicted')\n",
        "plt.legend()\n",
        "\n",
        "# Perform cross-validation on the best pipeline\n",
        "scores = cross_val_score(best_pipeline, data.drop('y', axis=1), data['y'], cv=3)\n",
        "print('Cross-validation scores:', scores)\n",
        "\n",
        "# Display the plot and the cross-validation scores\n",
        "plt.show()\n"
      ],
      "metadata": {
        "id": "V05PZqx4iSft"
      },
      "execution_count": null,
      "outputs": []
    },
    {
      "cell_type": "code",
      "source": [
        "from tpot import TPOTClassifier\n",
        "from sklearn.datasets import load_digits\n",
        "from sklearn.model_selection import train_test_split\n",
        "\n",
        "digits = load_digits()\n",
        "X_train, X_test, y_train, y_test = train_test_split(digits.data, digits.target,\n",
        "                                                    train_size=0.75, test_size=0.25, random_state=42)\n",
        "\n",
        "tpot = TPOTClassifier(generations=5, population_size=50, verbosity=2, random_state=42)\n",
        "tpot.fit(X_train, y_train)\n",
        "print(tpot.score(X_test, y_test))\n",
        "tpot.export('tpot_digits_pipeline.py')\n",
        "\n"
      ],
      "metadata": {
        "colab": {
          "base_uri": "https://localhost:8080/",
          "height": 297,
          "referenced_widgets": [
            "eaf76f567fb848b38c9eb2901d7c3590",
            "bd9f601e93364bc9af4e59d32bdc9c04",
            "1417d5937640494a957a651ec9a747f2",
            "db24594b14e948d9a4abded4fec59c06",
            "8235ad475fb542b2a361f02ec56a177f",
            "53512d920f904c3f84a4402d3e2e1175",
            "d0973c3a545d4c0b825d66e0312985d1",
            "58ef76efedbd4df6b651927af89cb49b",
            "c6eb6483a4c74054827992dd8c1e5430",
            "2e45c0af68fa4ef1b45deaf805425d52",
            "8d3f5f4731e547adab0446d619355d9c"
          ]
        },
        "id": "DnwCffaemXw9",
        "outputId": "8e73dd74-4c3c-4cdf-e959-983c06cf3667"
      },
      "execution_count": null,
      "outputs": [
        {
          "output_type": "display_data",
          "data": {
            "text/plain": [
              "Optimization Progress:   0%|          | 0/300 [00:00<?, ?pipeline/s]"
            ],
            "application/vnd.jupyter.widget-view+json": {
              "version_major": 2,
              "version_minor": 0,
              "model_id": "eaf76f567fb848b38c9eb2901d7c3590"
            }
          },
          "metadata": {}
        },
        {
          "output_type": "stream",
          "name": "stdout",
          "text": [
            "\n",
            "Generation 1 - Current best internal CV score: 0.9844058928817294\n",
            "\n",
            "Generation 2 - Current best internal CV score: 0.9844058928817294\n",
            "\n",
            "Generation 3 - Current best internal CV score: 0.9844058928817294\n",
            "\n",
            "Generation 4 - Current best internal CV score: 0.9844058928817294\n",
            "\n",
            "Generation 5 - Current best internal CV score: 0.9844058928817294\n",
            "\n",
            "Best pipeline: KNeighborsClassifier(input_matrix, n_neighbors=3, p=2, weights=distance)\n",
            "0.9866666666666667\n"
          ]
        },
        {
          "output_type": "stream",
          "name": "stderr",
          "text": [
            "/usr/local/lib/python3.9/dist-packages/sklearn/metrics/_scorer.py:794: FutureWarning: sklearn.metrics.SCORERS is deprecated and will be removed in v1.3. Please use sklearn.metrics.get_scorer_names to get a list of available scorers and sklearn.metrics.get_metric to get scorer.\n",
            "  warnings.warn(\n"
          ]
        }
      ]
    },
    {
      "cell_type": "code",
      "source": [
        "from tpot import TPOTClassifier\n",
        "from sklearn.datasets import load_digits\n",
        "from sklearn.model_selection import train_test_split\n",
        "from sklearn.tree import export_graphviz\n",
        "from graphviz import Source\n",
        "\n",
        "digits = load_digits()\n",
        "X_train, X_test, y_train, y_test = train_test_split(digits.data, digits.target,\n",
        "                                                    train_size=0.75, test_size=0.25, random_state=42)\n",
        "\n",
        "tpot = TPOTClassifier(generations=2, population_size=10, verbosity=2, random_state=42)\n",
        "tpot.fit(X_train, y_train)\n",
        "\n",
        "tpot.export('tpot_digits_pipeline.py')\n",
        "\n",
        "tpot.fitted_pipeline_.score(X_test, y_test)\n",
        "\n",
        "# Export the pipeline visualization as a PNG image\n",
        "export_graphviz(tpot.fitted_pipeline_, out_file='tpot_pipeline.dot', filled=True, rounded=True, special_characters=True)\n",
        "Source.from_file('tpot_pipeline.dot', format='png').view()\n"
      ],
      "metadata": {
        "colab": {
          "base_uri": "https://localhost:8080/",
          "height": 487,
          "referenced_widgets": [
            "561225de8717460f82c7b34fa25b4242",
            "791203a8ec2a474d9535657a795b8a3b",
            "2d8eec6e4eec4fb5b38660a1b15a989a",
            "7628ca643de84e51a7ffcd32a54ba9d3",
            "b22d4b1d3b18417e87253ff5b2588abd",
            "cfeae1d46048444b99a505886aff39b8",
            "7358b93790bf4be889b4aad23484d849",
            "d38c1886e4a84273bcd01791ab628477",
            "0fcc7adfeedd4ab6b8e6cbd1a3b97d9b",
            "69366ea7e4de4b948ddfd2e80eade5df",
            "689b339db1174677b1471bae68c7c670"
          ]
        },
        "id": "KyuQ-jTwwnlN",
        "outputId": "03f83f18-2328-439d-f39f-21977a50f7f5"
      },
      "execution_count": null,
      "outputs": [
        {
          "output_type": "display_data",
          "data": {
            "text/plain": [
              "Optimization Progress:   0%|          | 0/30 [00:00<?, ?pipeline/s]"
            ],
            "application/vnd.jupyter.widget-view+json": {
              "version_major": 2,
              "version_minor": 0,
              "model_id": "561225de8717460f82c7b34fa25b4242"
            }
          },
          "metadata": {}
        },
        {
          "output_type": "stream",
          "name": "stdout",
          "text": [
            "\n",
            "Generation 1 - Current best internal CV score: 0.9799531873881315\n",
            "\n",
            "Generation 2 - Current best internal CV score: 0.9806966818119236\n",
            "\n",
            "Best pipeline: KNeighborsClassifier(GradientBoostingClassifier(input_matrix, learning_rate=0.01, max_depth=5, max_features=0.15000000000000002, min_samples_leaf=8, min_samples_split=5, n_estimators=100, subsample=0.45), n_neighbors=3, p=1, weights=distance)\n"
          ]
        },
        {
          "output_type": "error",
          "ename": "AttributeError",
          "evalue": "ignored",
          "traceback": [
            "\u001b[0;31m---------------------------------------------------------------------------\u001b[0m",
            "\u001b[0;31mAttributeError\u001b[0m                            Traceback (most recent call last)",
            "\u001b[0;32m<ipython-input-1-c4e548fccb19>\u001b[0m in \u001b[0;36m<cell line: 19>\u001b[0;34m()\u001b[0m\n\u001b[1;32m     17\u001b[0m \u001b[0;34m\u001b[0m\u001b[0m\n\u001b[1;32m     18\u001b[0m \u001b[0;31m# Export the pipeline visualization as a PNG image\u001b[0m\u001b[0;34m\u001b[0m\u001b[0;34m\u001b[0m\u001b[0m\n\u001b[0;32m---> 19\u001b[0;31m \u001b[0mexport_graphviz\u001b[0m\u001b[0;34m(\u001b[0m\u001b[0mtpot\u001b[0m\u001b[0;34m.\u001b[0m\u001b[0mfitted_pipeline_\u001b[0m\u001b[0;34m,\u001b[0m \u001b[0mout_file\u001b[0m\u001b[0;34m=\u001b[0m\u001b[0;34m'tpot_pipeline.dot'\u001b[0m\u001b[0;34m,\u001b[0m \u001b[0mfilled\u001b[0m\u001b[0;34m=\u001b[0m\u001b[0;32mTrue\u001b[0m\u001b[0;34m,\u001b[0m \u001b[0mrounded\u001b[0m\u001b[0;34m=\u001b[0m\u001b[0;32mTrue\u001b[0m\u001b[0;34m,\u001b[0m \u001b[0mspecial_characters\u001b[0m\u001b[0;34m=\u001b[0m\u001b[0;32mTrue\u001b[0m\u001b[0;34m)\u001b[0m\u001b[0;34m\u001b[0m\u001b[0;34m\u001b[0m\u001b[0m\n\u001b[0m\u001b[1;32m     20\u001b[0m \u001b[0mSource\u001b[0m\u001b[0;34m.\u001b[0m\u001b[0mfrom_file\u001b[0m\u001b[0;34m(\u001b[0m\u001b[0;34m'tpot_pipeline.dot'\u001b[0m\u001b[0;34m,\u001b[0m \u001b[0mformat\u001b[0m\u001b[0;34m=\u001b[0m\u001b[0;34m'png'\u001b[0m\u001b[0;34m)\u001b[0m\u001b[0;34m.\u001b[0m\u001b[0mview\u001b[0m\u001b[0;34m(\u001b[0m\u001b[0;34m)\u001b[0m\u001b[0;34m\u001b[0m\u001b[0;34m\u001b[0m\u001b[0m\n",
            "\u001b[0;32m/usr/local/lib/python3.9/dist-packages/sklearn/tree/_export.py\u001b[0m in \u001b[0;36mexport_graphviz\u001b[0;34m(decision_tree, out_file, max_depth, feature_names, class_names, label, filled, leaves_parallel, impurity, node_ids, proportion, rotate, rounded, special_characters, precision, fontname)\u001b[0m\n\u001b[1;32m    886\u001b[0m             \u001b[0mfontname\u001b[0m\u001b[0;34m=\u001b[0m\u001b[0mfontname\u001b[0m\u001b[0;34m,\u001b[0m\u001b[0;34m\u001b[0m\u001b[0;34m\u001b[0m\u001b[0m\n\u001b[1;32m    887\u001b[0m         )\n\u001b[0;32m--> 888\u001b[0;31m         \u001b[0mexporter\u001b[0m\u001b[0;34m.\u001b[0m\u001b[0mexport\u001b[0m\u001b[0;34m(\u001b[0m\u001b[0mdecision_tree\u001b[0m\u001b[0;34m)\u001b[0m\u001b[0;34m\u001b[0m\u001b[0;34m\u001b[0m\u001b[0m\n\u001b[0m\u001b[1;32m    889\u001b[0m \u001b[0;34m\u001b[0m\u001b[0m\n\u001b[1;32m    890\u001b[0m         \u001b[0;32mif\u001b[0m \u001b[0mreturn_string\u001b[0m\u001b[0;34m:\u001b[0m\u001b[0;34m\u001b[0m\u001b[0;34m\u001b[0m\u001b[0m\n",
            "\u001b[0;32m/usr/local/lib/python3.9/dist-packages/sklearn/tree/_export.py\u001b[0m in \u001b[0;36mexport\u001b[0;34m(self, decision_tree)\u001b[0m\n\u001b[1;32m    459\u001b[0m             \u001b[0mself\u001b[0m\u001b[0;34m.\u001b[0m\u001b[0mrecurse\u001b[0m\u001b[0;34m(\u001b[0m\u001b[0mdecision_tree\u001b[0m\u001b[0;34m,\u001b[0m \u001b[0;36m0\u001b[0m\u001b[0;34m,\u001b[0m \u001b[0mcriterion\u001b[0m\u001b[0;34m=\u001b[0m\u001b[0;34m\"impurity\"\u001b[0m\u001b[0;34m)\u001b[0m\u001b[0;34m\u001b[0m\u001b[0;34m\u001b[0m\u001b[0m\n\u001b[1;32m    460\u001b[0m         \u001b[0;32melse\u001b[0m\u001b[0;34m:\u001b[0m\u001b[0;34m\u001b[0m\u001b[0;34m\u001b[0m\u001b[0m\n\u001b[0;32m--> 461\u001b[0;31m             \u001b[0mself\u001b[0m\u001b[0;34m.\u001b[0m\u001b[0mrecurse\u001b[0m\u001b[0;34m(\u001b[0m\u001b[0mdecision_tree\u001b[0m\u001b[0;34m.\u001b[0m\u001b[0mtree_\u001b[0m\u001b[0;34m,\u001b[0m \u001b[0;36m0\u001b[0m\u001b[0;34m,\u001b[0m \u001b[0mcriterion\u001b[0m\u001b[0;34m=\u001b[0m\u001b[0mdecision_tree\u001b[0m\u001b[0;34m.\u001b[0m\u001b[0mcriterion\u001b[0m\u001b[0;34m)\u001b[0m\u001b[0;34m\u001b[0m\u001b[0;34m\u001b[0m\u001b[0m\n\u001b[0m\u001b[1;32m    462\u001b[0m \u001b[0;34m\u001b[0m\u001b[0m\n\u001b[1;32m    463\u001b[0m         \u001b[0mself\u001b[0m\u001b[0;34m.\u001b[0m\u001b[0mtail\u001b[0m\u001b[0;34m(\u001b[0m\u001b[0;34m)\u001b[0m\u001b[0;34m\u001b[0m\u001b[0;34m\u001b[0m\u001b[0m\n",
            "\u001b[0;31mAttributeError\u001b[0m: 'Pipeline' object has no attribute 'tree_'"
          ]
        }
      ]
    },
    {
      "cell_type": "code",
      "source": [
        "import numpy as np\n",
        "import pandas as pd\n",
        "from sklearn.ensemble import RandomForestClassifier\n",
        "from sklearn.linear_model import LogisticRegression\n",
        "from sklearn.model_selection import train_test_split\n",
        "from sklearn.pipeline import make_pipeline, make_union\n",
        "from sklearn.preprocessing import PolynomialFeatures\n",
        "from tpot.builtins import StackingEstimator\n",
        "from tpot.export_utils import set_param_recursive\n",
        "\n",
        "# NOTE: Make sure that the outcome column is labeled 'target' in the data file\n",
        "tpot_data = pd.read_csv('PATH/TO/DATA/FILE', sep='COLUMN_SEPARATOR', dtype=np.float64)\n",
        "features = tpot_data.drop('target', axis=1)\n",
        "training_features, testing_features, training_target, testing_target = \\\n",
        "            train_test_split(features, tpot_data['target'], random_state=42)\n",
        "\n",
        "# Average CV score on the training set was: 0.9799428471757372\n",
        "exported_pipeline = make_pipeline(\n",
        "    PolynomialFeatures(degree=2, include_bias=False, interaction_only=False),\n",
        "    StackingEstimator(estimator=LogisticRegression(C=0.1, dual=False, penalty=\"l1\")),\n",
        "    RandomForestClassifier(bootstrap=True, criterion=\"entropy\", max_features=0.35000000000000003, min_samples_leaf=20, min_samples_split=19, n_estimators=100)\n",
        ")\n",
        "# Fix random state for all the steps in exported pipeline\n",
        "set_param_recursive(exported_pipeline.steps, 'random_state', 42)\n",
        "\n",
        "exported_pipeline.fit(training_features, training_target)\n",
        "results = exported_pipeline.predict(testing_features)"
      ],
      "metadata": {
        "colab": {
          "base_uri": "https://localhost:8080/",
          "height": 435
        },
        "id": "u5lmAiLWuv27",
        "outputId": "194501ed-1d73-4315-c9d8-8bb0da4aa63d"
      },
      "execution_count": null,
      "outputs": [
        {
          "output_type": "stream",
          "name": "stderr",
          "text": [
            "<ipython-input-9-376f55aa4227>:12: ParserWarning: Falling back to the 'python' engine because the 'c' engine does not support regex separators (separators > 1 char and different from '\\s+' are interpreted as regex); you can avoid this warning by specifying engine='python'.\n",
            "  tpot_data = pd.read_csv('PATH/TO/DATA/FILE', sep='COLUMN_SEPARATOR', dtype=np.float64)\n"
          ]
        },
        {
          "output_type": "error",
          "ename": "FileNotFoundError",
          "evalue": "ignored",
          "traceback": [
            "\u001b[0;31m---------------------------------------------------------------------------\u001b[0m",
            "\u001b[0;31mFileNotFoundError\u001b[0m                         Traceback (most recent call last)",
            "\u001b[0;32m<ipython-input-9-376f55aa4227>\u001b[0m in \u001b[0;36m<cell line: 12>\u001b[0;34m()\u001b[0m\n\u001b[1;32m     10\u001b[0m \u001b[0;34m\u001b[0m\u001b[0m\n\u001b[1;32m     11\u001b[0m \u001b[0;31m# NOTE: Make sure that the outcome column is labeled 'target' in the data file\u001b[0m\u001b[0;34m\u001b[0m\u001b[0;34m\u001b[0m\u001b[0m\n\u001b[0;32m---> 12\u001b[0;31m \u001b[0mtpot_data\u001b[0m \u001b[0;34m=\u001b[0m \u001b[0mpd\u001b[0m\u001b[0;34m.\u001b[0m\u001b[0mread_csv\u001b[0m\u001b[0;34m(\u001b[0m\u001b[0;34m'PATH/TO/DATA/FILE'\u001b[0m\u001b[0;34m,\u001b[0m \u001b[0msep\u001b[0m\u001b[0;34m=\u001b[0m\u001b[0;34m'COLUMN_SEPARATOR'\u001b[0m\u001b[0;34m,\u001b[0m \u001b[0mdtype\u001b[0m\u001b[0;34m=\u001b[0m\u001b[0mnp\u001b[0m\u001b[0;34m.\u001b[0m\u001b[0mfloat64\u001b[0m\u001b[0;34m)\u001b[0m\u001b[0;34m\u001b[0m\u001b[0;34m\u001b[0m\u001b[0m\n\u001b[0m\u001b[1;32m     13\u001b[0m \u001b[0mfeatures\u001b[0m \u001b[0;34m=\u001b[0m \u001b[0mtpot_data\u001b[0m\u001b[0;34m.\u001b[0m\u001b[0mdrop\u001b[0m\u001b[0;34m(\u001b[0m\u001b[0;34m'target'\u001b[0m\u001b[0;34m,\u001b[0m \u001b[0maxis\u001b[0m\u001b[0;34m=\u001b[0m\u001b[0;36m1\u001b[0m\u001b[0;34m)\u001b[0m\u001b[0;34m\u001b[0m\u001b[0;34m\u001b[0m\u001b[0m\n\u001b[1;32m     14\u001b[0m \u001b[0mtraining_features\u001b[0m\u001b[0;34m,\u001b[0m \u001b[0mtesting_features\u001b[0m\u001b[0;34m,\u001b[0m \u001b[0mtraining_target\u001b[0m\u001b[0;34m,\u001b[0m \u001b[0mtesting_target\u001b[0m \u001b[0;34m=\u001b[0m\u001b[0;31m \u001b[0m\u001b[0;31m\\\u001b[0m\u001b[0;34m\u001b[0m\u001b[0;34m\u001b[0m\u001b[0m\n",
            "\u001b[0;32m/usr/local/lib/python3.9/dist-packages/pandas/util/_decorators.py\u001b[0m in \u001b[0;36mwrapper\u001b[0;34m(*args, **kwargs)\u001b[0m\n\u001b[1;32m    309\u001b[0m                     \u001b[0mstacklevel\u001b[0m\u001b[0;34m=\u001b[0m\u001b[0mstacklevel\u001b[0m\u001b[0;34m,\u001b[0m\u001b[0;34m\u001b[0m\u001b[0;34m\u001b[0m\u001b[0m\n\u001b[1;32m    310\u001b[0m                 )\n\u001b[0;32m--> 311\u001b[0;31m             \u001b[0;32mreturn\u001b[0m \u001b[0mfunc\u001b[0m\u001b[0;34m(\u001b[0m\u001b[0;34m*\u001b[0m\u001b[0margs\u001b[0m\u001b[0;34m,\u001b[0m \u001b[0;34m**\u001b[0m\u001b[0mkwargs\u001b[0m\u001b[0;34m)\u001b[0m\u001b[0;34m\u001b[0m\u001b[0;34m\u001b[0m\u001b[0m\n\u001b[0m\u001b[1;32m    312\u001b[0m \u001b[0;34m\u001b[0m\u001b[0m\n\u001b[1;32m    313\u001b[0m         \u001b[0;32mreturn\u001b[0m \u001b[0mwrapper\u001b[0m\u001b[0;34m\u001b[0m\u001b[0;34m\u001b[0m\u001b[0m\n",
            "\u001b[0;32m/usr/local/lib/python3.9/dist-packages/pandas/io/parsers/readers.py\u001b[0m in \u001b[0;36mread_csv\u001b[0;34m(filepath_or_buffer, sep, delimiter, header, names, index_col, usecols, squeeze, prefix, mangle_dupe_cols, dtype, engine, converters, true_values, false_values, skipinitialspace, skiprows, skipfooter, nrows, na_values, keep_default_na, na_filter, verbose, skip_blank_lines, parse_dates, infer_datetime_format, keep_date_col, date_parser, dayfirst, cache_dates, iterator, chunksize, compression, thousands, decimal, lineterminator, quotechar, quoting, doublequote, escapechar, comment, encoding, encoding_errors, dialect, error_bad_lines, warn_bad_lines, on_bad_lines, delim_whitespace, low_memory, memory_map, float_precision, storage_options)\u001b[0m\n\u001b[1;32m    676\u001b[0m     \u001b[0mkwds\u001b[0m\u001b[0;34m.\u001b[0m\u001b[0mupdate\u001b[0m\u001b[0;34m(\u001b[0m\u001b[0mkwds_defaults\u001b[0m\u001b[0;34m)\u001b[0m\u001b[0;34m\u001b[0m\u001b[0;34m\u001b[0m\u001b[0m\n\u001b[1;32m    677\u001b[0m \u001b[0;34m\u001b[0m\u001b[0m\n\u001b[0;32m--> 678\u001b[0;31m     \u001b[0;32mreturn\u001b[0m \u001b[0m_read\u001b[0m\u001b[0;34m(\u001b[0m\u001b[0mfilepath_or_buffer\u001b[0m\u001b[0;34m,\u001b[0m \u001b[0mkwds\u001b[0m\u001b[0;34m)\u001b[0m\u001b[0;34m\u001b[0m\u001b[0;34m\u001b[0m\u001b[0m\n\u001b[0m\u001b[1;32m    679\u001b[0m \u001b[0;34m\u001b[0m\u001b[0m\n\u001b[1;32m    680\u001b[0m \u001b[0;34m\u001b[0m\u001b[0m\n",
            "\u001b[0;32m/usr/local/lib/python3.9/dist-packages/pandas/io/parsers/readers.py\u001b[0m in \u001b[0;36m_read\u001b[0;34m(filepath_or_buffer, kwds)\u001b[0m\n\u001b[1;32m    573\u001b[0m \u001b[0;34m\u001b[0m\u001b[0m\n\u001b[1;32m    574\u001b[0m     \u001b[0;31m# Create the parser.\u001b[0m\u001b[0;34m\u001b[0m\u001b[0;34m\u001b[0m\u001b[0m\n\u001b[0;32m--> 575\u001b[0;31m     \u001b[0mparser\u001b[0m \u001b[0;34m=\u001b[0m \u001b[0mTextFileReader\u001b[0m\u001b[0;34m(\u001b[0m\u001b[0mfilepath_or_buffer\u001b[0m\u001b[0;34m,\u001b[0m \u001b[0;34m**\u001b[0m\u001b[0mkwds\u001b[0m\u001b[0;34m)\u001b[0m\u001b[0;34m\u001b[0m\u001b[0;34m\u001b[0m\u001b[0m\n\u001b[0m\u001b[1;32m    576\u001b[0m \u001b[0;34m\u001b[0m\u001b[0m\n\u001b[1;32m    577\u001b[0m     \u001b[0;32mif\u001b[0m \u001b[0mchunksize\u001b[0m \u001b[0;32mor\u001b[0m \u001b[0miterator\u001b[0m\u001b[0;34m:\u001b[0m\u001b[0;34m\u001b[0m\u001b[0;34m\u001b[0m\u001b[0m\n",
            "\u001b[0;32m/usr/local/lib/python3.9/dist-packages/pandas/io/parsers/readers.py\u001b[0m in \u001b[0;36m__init__\u001b[0;34m(self, f, engine, **kwds)\u001b[0m\n\u001b[1;32m    930\u001b[0m \u001b[0;34m\u001b[0m\u001b[0m\n\u001b[1;32m    931\u001b[0m         \u001b[0mself\u001b[0m\u001b[0;34m.\u001b[0m\u001b[0mhandles\u001b[0m\u001b[0;34m:\u001b[0m \u001b[0mIOHandles\u001b[0m \u001b[0;34m|\u001b[0m \u001b[0;32mNone\u001b[0m \u001b[0;34m=\u001b[0m \u001b[0;32mNone\u001b[0m\u001b[0;34m\u001b[0m\u001b[0;34m\u001b[0m\u001b[0m\n\u001b[0;32m--> 932\u001b[0;31m         \u001b[0mself\u001b[0m\u001b[0;34m.\u001b[0m\u001b[0m_engine\u001b[0m \u001b[0;34m=\u001b[0m \u001b[0mself\u001b[0m\u001b[0;34m.\u001b[0m\u001b[0m_make_engine\u001b[0m\u001b[0;34m(\u001b[0m\u001b[0mf\u001b[0m\u001b[0;34m,\u001b[0m \u001b[0mself\u001b[0m\u001b[0;34m.\u001b[0m\u001b[0mengine\u001b[0m\u001b[0;34m)\u001b[0m\u001b[0;34m\u001b[0m\u001b[0;34m\u001b[0m\u001b[0m\n\u001b[0m\u001b[1;32m    933\u001b[0m \u001b[0;34m\u001b[0m\u001b[0m\n\u001b[1;32m    934\u001b[0m     \u001b[0;32mdef\u001b[0m \u001b[0mclose\u001b[0m\u001b[0;34m(\u001b[0m\u001b[0mself\u001b[0m\u001b[0;34m)\u001b[0m\u001b[0;34m:\u001b[0m\u001b[0;34m\u001b[0m\u001b[0;34m\u001b[0m\u001b[0m\n",
            "\u001b[0;32m/usr/local/lib/python3.9/dist-packages/pandas/io/parsers/readers.py\u001b[0m in \u001b[0;36m_make_engine\u001b[0;34m(self, f, engine)\u001b[0m\n\u001b[1;32m   1214\u001b[0m             \u001b[0;31m# \"Union[str, PathLike[str], ReadCsvBuffer[bytes], ReadCsvBuffer[str]]\"\u001b[0m\u001b[0;34m\u001b[0m\u001b[0;34m\u001b[0m\u001b[0m\n\u001b[1;32m   1215\u001b[0m             \u001b[0;31m# , \"str\", \"bool\", \"Any\", \"Any\", \"Any\", \"Any\", \"Any\"\u001b[0m\u001b[0;34m\u001b[0m\u001b[0;34m\u001b[0m\u001b[0m\n\u001b[0;32m-> 1216\u001b[0;31m             self.handles = get_handle(  # type: ignore[call-overload]\n\u001b[0m\u001b[1;32m   1217\u001b[0m                 \u001b[0mf\u001b[0m\u001b[0;34m,\u001b[0m\u001b[0;34m\u001b[0m\u001b[0;34m\u001b[0m\u001b[0m\n\u001b[1;32m   1218\u001b[0m                 \u001b[0mmode\u001b[0m\u001b[0;34m,\u001b[0m\u001b[0;34m\u001b[0m\u001b[0;34m\u001b[0m\u001b[0m\n",
            "\u001b[0;32m/usr/local/lib/python3.9/dist-packages/pandas/io/common.py\u001b[0m in \u001b[0;36mget_handle\u001b[0;34m(path_or_buf, mode, encoding, compression, memory_map, is_text, errors, storage_options)\u001b[0m\n\u001b[1;32m    784\u001b[0m         \u001b[0;32mif\u001b[0m \u001b[0mioargs\u001b[0m\u001b[0;34m.\u001b[0m\u001b[0mencoding\u001b[0m \u001b[0;32mand\u001b[0m \u001b[0;34m\"b\"\u001b[0m \u001b[0;32mnot\u001b[0m \u001b[0;32min\u001b[0m \u001b[0mioargs\u001b[0m\u001b[0;34m.\u001b[0m\u001b[0mmode\u001b[0m\u001b[0;34m:\u001b[0m\u001b[0;34m\u001b[0m\u001b[0;34m\u001b[0m\u001b[0m\n\u001b[1;32m    785\u001b[0m             \u001b[0;31m# Encoding\u001b[0m\u001b[0;34m\u001b[0m\u001b[0;34m\u001b[0m\u001b[0m\n\u001b[0;32m--> 786\u001b[0;31m             handle = open(\n\u001b[0m\u001b[1;32m    787\u001b[0m                 \u001b[0mhandle\u001b[0m\u001b[0;34m,\u001b[0m\u001b[0;34m\u001b[0m\u001b[0;34m\u001b[0m\u001b[0m\n\u001b[1;32m    788\u001b[0m                 \u001b[0mioargs\u001b[0m\u001b[0;34m.\u001b[0m\u001b[0mmode\u001b[0m\u001b[0;34m,\u001b[0m\u001b[0;34m\u001b[0m\u001b[0;34m\u001b[0m\u001b[0m\n",
            "\u001b[0;31mFileNotFoundError\u001b[0m: [Errno 2] No such file or directory: 'PATH/TO/DATA/FILE'"
          ]
        }
      ]
    },
    {
      "cell_type": "code",
      "source": [
        "import numpy as np\n",
        "import matplotlib.pyplot as plt\n",
        "from sklearn.linear_model import LinearRegression\n",
        "\n",
        "# Generate some random data for demonstration purposes\n",
        "X = np.random.rand(100, 1) * 10\n",
        "y = 2*X + 1 + np.random.randn(100, 1)\n",
        "\n",
        "# Create and fit the linear regression model\n",
        "model = LinearRegression()\n",
        "model.fit(X, y)\n",
        "\n",
        "# Make predictions using the model\n",
        "y_pred = model.predict(X)\n",
        "\n",
        "# Plot the results\n",
        "plt.scatter(X, y)\n",
        "plt.plot(X, y_pred, color='red')\n",
        "plt.xlabel('X')\n",
        "plt.ylabel('y')\n",
        "plt.title('Linear Regression')\n",
        "plt.show()\n"
      ],
      "metadata": {
        "colab": {
          "base_uri": "https://localhost:8080/",
          "height": 472
        },
        "id": "so79Lab4beds",
        "outputId": "202d3ce1-b09d-431b-e2b6-9148afaf0201"
      },
      "execution_count": null,
      "outputs": [
        {
          "output_type": "display_data",
          "data": {
            "text/plain": [
              "<Figure size 640x480 with 1 Axes>"
            ],
            "image/png": "[encoded data removed]"
          },
          "metadata": {}
        }
      ]
    },
    {
      "cell_type": "code",
      "source": [
        "import numpy as np\n",
        "import matplotlib.pyplot as plt\n",
        "from sklearn.linear_model import LogisticRegression\n",
        "from sklearn.datasets import make_classification\n",
        "\n",
        "# Generate some random data for demonstration purposes\n",
        "X, y = make_classification(n_samples=100, n_features=2, n_redundant=0, n_informative=1,\n",
        "                             n_clusters_per_class=1, random_state=42)\n",
        "\n",
        "# Create and fit the logistic regression model\n",
        "model = LogisticRegression(random_state=42)\n",
        "model.fit(X, y)\n",
        "\n",
        "# Make predictions using the model\n",
        "y_pred = model.predict(X)\n",
        "\n",
        "# Plot the results\n",
        "plt.scatter(X[:, 0], X[:, 1], c=y, cmap='viridis', alpha=0.5)\n",
        "plt.xlabel('Feature 1')\n",
        "plt.ylabel('Feature 2')\n",
        "plt.title('Logistic Regression')\n",
        "plt.show()\n"
      ],
      "metadata": {
        "colab": {
          "base_uri": "https://localhost:8080/",
          "height": 472
        },
        "id": "cd9Cjot346dE",
        "outputId": "cf83b0c8-b0ad-4e10-aad5-f6385506ece0"
      },
      "execution_count": null,
      "outputs": [
        {
          "output_type": "display_data",
          "data": {
            "text/plain": [
              "<Figure size 640x480 with 1 Axes>"
            ],
            "image/png": "[encoded data removed]"
          },
          "metadata": {}
        }
      ]
    },
    {
      "cell_type": "code",
      "source": [
        "import numpy as np\n",
        "import matplotlib.pyplot as plt\n",
        "from sklearn.tree import DecisionTreeClassifier\n",
        "from sklearn.datasets import make_classification\n",
        "\n",
        "# Generate some random data for demonstration purposes\n",
        "X, y = make_classification(n_samples=100, n_features=2, n_redundant=0, n_informative=2,\n",
        "                             n_clusters_per_class=1, random_state=42)\n",
        "\n",
        "# Create and fit the decision tree model\n",
        "model = DecisionTreeClassifier(max_depth=2, random_state=42)\n",
        "model.fit(X, y)\n",
        "\n",
        "# Plot the decision tree\n",
        "plt.figure(figsize=(8,6))\n",
        "plot_step = 0.02\n",
        "x_min, x_max = X[:, 0].min() - 0.5, X[:, 0].max() + 0.5\n",
        "y_min, y_max = X[:, 1].min() - 0.5, X[:, 1].max() + 0.5\n",
        "xx, yy = np.meshgrid(np.arange(x_min, x_max, plot_step),\n",
        "                     np.arange(y_min, y_max, plot_step))\n",
        "Z = model.predict(np.c_[xx.ravel(), yy.ravel()])\n",
        "Z = Z.reshape(xx.shape)\n",
        "plt.contourf(xx, yy, Z, cmap='viridis', alpha=0.5)\n",
        "\n",
        "# Plot the original data points\n",
        "plt.scatter(X[:, 0], X[:, 1], c=y, cmap='viridis', alpha=0.8)\n",
        "plt.xlabel('Feature 1')\n",
        "plt.ylabel('Feature 2')\n",
        "plt.title('Decision Tree')\n",
        "plt.show()\n"
      ],
      "metadata": {
        "colab": {
          "base_uri": "https://localhost:8080/",
          "height": 564
        },
        "id": "E2WKAhN_6FPf",
        "outputId": "4efec46b-770b-4ebc-9844-ee639cc9443d"
      },
      "execution_count": null,
      "outputs": [
        {
          "output_type": "display_data",
          "data": {
            "text/plain": [
              "<Figure size 800x600 with 1 Axes>"
            ],
            "image/png": "[encoded data removed]"
          },
          "metadata": {}
        }
      ]
    },
    {
      "cell_type": "code",
      "source": [
        "import gym\n",
        "import numpy as np\n",
        "import matplotlib.pyplot as plt\n",
        "\n",
        "# Define the hyperparameters\n",
        "alpha = 0.8  # Learning rate\n",
        "gamma = 0.95  # Discount factor\n",
        "epsilon = 0.1  # Exploration rate\n",
        "num_episodes = 1000  # Number of episodes to run\n",
        "\n",
        "# Initialize the environment\n",
        "env = gym.make('FrozenLake-v1')\n",
        "n_states = env.observation_space.n\n",
        "n_actions = env.action_space.n\n",
        "\n",
        "# Initialize the Q-table\n",
        "Q = np.zeros((n_states, n_actions))\n",
        "\n",
        "# Initialize the lists to store the rewards and steps per episode\n",
        "rewards_per_episode = []\n",
        "steps_per_episode = []\n",
        "\n",
        "# Run the Q-learning algorithm\n",
        "for episode in range(num_episodes):\n",
        "    state = env.reset()\n",
        "    done = False\n",
        "    total_reward = 0\n",
        "    steps = 0\n",
        "\n",
        "    while not done:\n",
        "        # Choose an action using an epsilon-greedy policy\n",
        "        if np.random.uniform() < epsilon:\n",
        "            action = env.action_space.sample()  # Exploration\n",
        "        else:\n",
        "            action = np.argmax(Q[state, :])  # Exploitation\n",
        "\n",
        "        # Take the action and observe the reward and next state\n",
        "        next_state, reward, done, _ = env.step(action)\n",
        "\n",
        "        # Update the Q-value for the state-action pair\n",
        "        Q[state, action] = Q[state, action] + alpha * (reward + gamma * np.max(Q[next_state, :]) - Q[state, action])\n",
        "\n",
        "        state = next_state\n",
        "        total_reward += reward\n",
        "        steps += 1\n",
        "\n",
        "    rewards_per_episode.append(total_reward)\n",
        "    steps_per_episode.append(steps)\n",
        "\n",
        "# Plot the rewards and steps per episode\n",
        "plt.plot(rewards_per_episode)\n",
        "plt.title('Rewards per Episode')\n",
        "plt.xlabel('Episode')\n",
        "plt.ylabel('Total Reward')\n",
        "plt.show()\n",
        "\n",
        "plt.plot(steps_per_episode)\n",
        "plt.title('Steps per Episode')\n",
        "plt.xlabel('Episode')\n",
        "plt.ylabel('Number of Steps')\n",
        "plt.show()\n",
        "\n",
        "# Print the learned Q-table\n",
        "print(Q)\n"
      ],
      "metadata": {
        "colab": {
          "base_uri": "https://localhost:8080/",
          "height": 1000
        },
        "id": "aGFkmW93_Vkf",
        "outputId": "d84196c0-ad92-4b0b-ba34-e6add4a5524c"
      },
      "execution_count": null,
      "outputs": [
        {
          "output_type": "display_data",
          "data": {
            "text/plain": [
              "<Figure size 640x480 with 1 Axes>"
            ],
            "image/png": "[encoded data removed]"
          },
          "metadata": {}
        },
        {
          "output_type": "display_data",
          "data": {
            "text/plain": [
              "<Figure size 640x480 with 1 Axes>"
            ],
            "image/png": "[encoded data removed]"
          },
          "metadata": {}
        },
        {
          "output_type": "stream",
          "name": "stdout",
          "text": [
            "[[0. 0. 0. 0.]\n",
            " [0. 0. 0. 0.]\n",
            " [0. 0. 0. 0.]\n",
            " [0. 0. 0. 0.]\n",
            " [0. 0. 0. 0.]\n",
            " [0. 0. 0. 0.]\n",
            " [0. 0. 0. 0.]\n",
            " [0. 0. 0. 0.]\n",
            " [0. 0. 0. 0.]\n",
            " [0. 0. 0. 0.]\n",
            " [0. 0. 0. 0.]\n",
            " [0. 0. 0. 0.]\n",
            " [0. 0. 0. 0.]\n",
            " [0. 0. 0. 0.]\n",
            " [0. 0. 0. 0.]\n",
            " [0. 0. 0. 0.]]\n"
          ]
        }
      ]
    },
    {
      "cell_type": "code",
      "source": [
        "# Run the DQN algorithm\n",
        "rewards_per_episode = []\n",
        "for episode in range(num_episodes):\n",
        "    state = env.reset()\n",
        "    done = False\n",
        "    total_reward = 0\n",
        "    steps = 0\n",
        "\n",
        "    while not done and steps < num_steps:\n",
        "        # Choose an action using an epsilon-greedy policy\n",
        "        if np.random.uniform() < epsilon:\n",
        "            action = env.action_space.sample()  # Exploration\n",
        "        else:\n",
        "            q_values = model.predict(np.expand_dims(state, axis=0))[0]\n",
        "            action = np.argmax(q_values)  # Exploitation\n",
        "\n",
        "        # Take the action and observe the reward and next state\n",
        "        next_state, reward, done, _ = env.step(action)\n",
        "\n",
        "        # Add the experience to the replay memory\n",
        "        memory[memory_index % memory_size] = (state, action, reward, next_state, done)\n",
        "        memory_index += 1\n",
        "\n",
        "        # Sample a minibatch of experiences from the replay memory\n",
        "        indices = np.random.choice(min(memory_index, memory_size), batch_size)\n",
        "        batch = memory[indices]\n",
        "        states = np.stack(batch[:, 0])\n",
        "        actions = batch[:, 1].astype(int)\n",
        "        rewards = batch[:, 2]\n",
        "        next_states = np.stack(batch[:, 3])\n",
        "        dones = batch[:, 4].astype(bool)\n",
        "\n",
        "        # Calculate the target Q-values for the minibatch using the target network\n",
        "        target_q_values = target_model.predict(next_states)\n",
        "        max_target_q_values = np.max(target_q_values, axis=1)\n",
        "        target_q_values[dones, :] = 0.0  # Terminal states have zero Q-values\n",
        "        target_q_values[np.arange(batch_size), actions] = rewards + gamma * max_target_q_values\n",
        "\n",
        "        # Train the neural network using the minibatch of experiences\n",
        "        model.fit(states, target_q_values, epochs=1, verbose=0)\n",
        "\n",
        "        # Update the target network weights\n",
        "        if memory_index % target_update_freq == 0:\n",
        "            target_model.set_weights(model.get_weights())\n",
        "\n",
        "        # Update the state, reward, and total reward\n",
        "        state = next_state\n",
        "        total_reward += reward\n",
        "        steps += 1\n",
        "\n",
        "    # Decay the exploration rate\n",
        "    if epsilon > epsilon_min:\n",
        "        epsilon *= epsilon_decay\n",
        "\n",
        "    # Store the rewards and steps per episode\n",
        "    rewards_per_episode.append(total_reward)\n",
        "    steps_per_episode.append(steps)\n",
        "\n",
        "    # Print the results for this episode\n",
        "    print(f\"Episode {episode+1} -- Reward: {total_reward} -- Steps: {steps}\")\n",
        "\n",
        "# Plot the rewards per episode\n",
        "plt.plot(rewards_per_episode)\n",
        "plt.xlabel('Episode')\n",
        "plt.ylabel('Reward')\n",
        "plt.title('DQN Rewards per Episode')\n",
        "plt.show()\n"
      ],
      "metadata": {
        "colab": {
          "base_uri": "https://localhost:8080/",
          "height": 235
        },
        "id": "LJeu9lbsCvg8",
        "outputId": "aff95f53-017b-46de-9f18-d92b00e1194e"
      },
      "execution_count": null,
      "outputs": [
        {
          "output_type": "error",
          "ename": "ValueError",
          "evalue": "ignored",
          "traceback": [
            "\u001b[0;31m---------------------------------------------------------------------------\u001b[0m",
            "\u001b[0;31mValueError\u001b[0m                                Traceback (most recent call last)",
            "\u001b[0;32m<ipython-input-6-32030992cbfc>\u001b[0m in \u001b[0;36m<cell line: 3>\u001b[0;34m()\u001b[0m\n\u001b[1;32m     19\u001b[0m \u001b[0;34m\u001b[0m\u001b[0m\n\u001b[1;32m     20\u001b[0m         \u001b[0;31m# Add the experience to the replay memory\u001b[0m\u001b[0;34m\u001b[0m\u001b[0;34m\u001b[0m\u001b[0m\n\u001b[0;32m---> 21\u001b[0;31m         \u001b[0mmemory\u001b[0m\u001b[0;34m[\u001b[0m\u001b[0mmemory_index\u001b[0m \u001b[0;34m%\u001b[0m \u001b[0mmemory_size\u001b[0m\u001b[0;34m]\u001b[0m \u001b[0;34m=\u001b[0m \u001b[0;34m(\u001b[0m\u001b[0mstate\u001b[0m\u001b[0;34m,\u001b[0m \u001b[0maction\u001b[0m\u001b[0;34m,\u001b[0m \u001b[0mreward\u001b[0m\u001b[0;34m,\u001b[0m \u001b[0mnext_state\u001b[0m\u001b[0;34m,\u001b[0m \u001b[0mdone\u001b[0m\u001b[0;34m)\u001b[0m\u001b[0;34m\u001b[0m\u001b[0;34m\u001b[0m\u001b[0m\n\u001b[0m\u001b[1;32m     22\u001b[0m         \u001b[0mmemory_index\u001b[0m \u001b[0;34m+=\u001b[0m \u001b[0;36m1\u001b[0m\u001b[0;34m\u001b[0m\u001b[0;34m\u001b[0m\u001b[0m\n\u001b[1;32m     23\u001b[0m \u001b[0;34m\u001b[0m\u001b[0m\n",
            "\u001b[0;31mValueError\u001b[0m: setting an array element with a sequence. The requested array would exceed the maximum number of dimension of 1."
          ]
        }
      ]
    },
    {
      "cell_type": "code",
      "source": [
        "import gym\n",
        "import tensorflow as tf\n",
        "import numpy as np\n",
        "import matplotlib.pyplot as plt\n",
        "\n",
        "# Define the policy network\n",
        "def policy_network(observation_space, action_space):\n",
        "    inputs = tf.keras.layers.Input(shape=(observation_space,))\n",
        "    dense1 = tf.keras.layers.Dense(32, activation=\"relu\")(inputs)\n",
        "    dense2 = tf.keras.layers.Dense(32, activation=\"relu\")(dense1)\n",
        "    outputs = tf.keras.layers.Dense(action_space, activation=\"softmax\")(dense2)\n",
        "    model = tf.keras.Model(inputs=inputs, outputs=outputs)\n",
        "    return model\n",
        "\n",
        "# Define the policy gradient algorithm\n",
        "def policy_gradient(env, num_episodes, learning_rate, gamma):\n",
        "    observation_space = env.observation_space.shape[0]\n",
        "    action_space = env.action_space.n\n",
        "\n",
        "    # Initialize the policy network and optimizer\n",
        "    model = policy_network(observation_space, action_space)\n",
        "    optimizer = tf.keras.optimizers.Adam(learning_rate=learning_rate)\n",
        "\n",
        "    # Initialize the lists to store rewards and episode lengths\n",
        "    episode_rewards = []\n",
        "    episode_lengths = []\n",
        "\n",
        "    for episode in range(num_episodes):\n",
        "        state = env.reset()\n",
        "        episode_reward = 0\n",
        "        episode_length = 0\n",
        "        episode_states = []\n",
        "        episode_actions = []\n",
        "        episode_rewards_to_go = []\n",
        "\n",
        "        # Run the episode and record the states, actions, and rewards\n",
        "        done = False\n",
        "        while not done:\n",
        "            episode_states.append(state)\n",
        "            action_probabilities = model.predict(np.array([state]))\n",
        "            action = np.random.choice(action_space, p=action_probabilities[0])\n",
        "            episode_actions.append(action)\n",
        "            state, reward, done, _ = env.step(action)\n",
        "            episode_reward += reward\n",
        "            episode_length += 1\n",
        "\n",
        "            if done:\n",
        "                # Compute the rewards-to-go for each step in the episode\n",
        "                rewards_to_go = []\n",
        "                reward_sum = 0\n",
        "                for r in reversed(episode_rewards_to_go):\n",
        "                    reward_sum = r + gamma * reward_sum\n",
        "                    rewards_to_go.append(reward_sum)\n",
        "                rewards_to_go.reverse()\n",
        "                episode_rewards_to_go.extend(rewards_to_go)\n",
        "\n",
        "            else:\n",
        "                episode_rewards_to_go.append(0)\n",
        "\n",
        "        episode_rewards.append(episode_reward)\n",
        "        episode_lengths.append(episode_length)\n",
        "\n",
        "        # Compute the loss and update the policy network\n",
        "        with tf.GradientTape() as tape:\n",
        "            loss = 0\n",
        "            for i in range(len(episode_states)):\n",
        "                state = episode_states[i]\n",
        "                action = episode_actions[i]\n",
        "                reward_to_go = episode_rewards_to_go[i]\n",
        "                action_probabilities = model(np.array([state]))\n",
        "                loss += -tf.math.log(action_probabilities[0][action]) * reward_to_go\n",
        "            gradients = tape.gradient(loss, model.trainable_variables)\n",
        "            optimizer.apply_gradients(zip(gradients, model.trainable_variables))\n",
        "\n",
        "        # Print the episode reward and length every 10 episodes\n",
        "        if episode % 10 == 0:\n",
        "            print(\"Episode:\", episode, \"Reward:\", episode_reward, \"Length:\", episode_length)\n",
        "\n",
        "    # Plot the training progress\n",
        "    plt.plot(episode_rewards)\n",
        "    plt.title(\"Episode Rewards\")\n",
        "    plt.xlabel(\"Episode\")\n",
        "    plt.ylabel(\"Reward\")\n",
        "    plt.show()\n",
        "\n",
        "    plt.plot(episode_lengths)\n",
        "    plt.title(\"Episode Lengths\")\n",
        "    plt.xlabel(\"Episode\")\n",
        "    plt.ylabel(\"Length\")\n",
        "    plt.show()\n",
        "\n",
        "# Run the policy gradient algorithm on the CartPole-v1 environment\n",
        "\n"
      ],
      "metadata": {
        "id": "te8TjSIeojgQ"
      },
      "execution_count": null,
      "outputs": []
    },
    {
      "cell_type": "code",
      "source": [
        "# Create a shopping list with three items\n",
        "shopping_list = ['Apples', 'Bananas', 'Milk']\n",
        "\n",
        "# Initialize an empty dictionary to store item-price pairs\n",
        "item_prices = {}\n",
        "\n",
        "# Ask the user for the prices of the items\n",
        "for item in shopping_list:\n",
        "    while True:\n",
        "        price_input = input(f\"Enter the price of {item}: \")\n",
        "        if price_input.replace('.', '', 1).isdigit():  # Check if input is a valid positive float\n",
        "            item_prices[item] = float(price_input)\n",
        "            break\n",
        "        else:\n",
        "            print(\"Invalid input. Please enter a valid price (e.g., 1.99).\")\n",
        "\n",
        "# Display the shopping list with prices formatted as currency\n",
        "print(\"Shopping List:\")\n",
        "for item, price in item_prices.items():\n",
        "    print(f\"{item}: ${price:.2f}\")\n"
      ],
      "metadata": {
        "colab": {
          "base_uri": "https://localhost:8080/"
        },
        "id": "kLpqTWoTAh1t",
        "outputId": "96015a3c-36a9-4fb9-cd65-114a73425294"
      },
      "execution_count": null,
      "outputs": [
        {
          "output_type": "stream",
          "name": "stdout",
          "text": [
            "Enter the price of Apples: 2\n",
            "Enter the price of Bananas: 3\n",
            "Enter the price of Milk: 1\n",
            "Shopping List:\n",
            "Apples: $2.00\n",
            "Bananas: $3.00\n",
            "Milk: $1.00\n"
          ]
        }
      ]
    },
    {
      "cell_type": "code",
      "source": [],
      "metadata": {
        "id": "1iL0BXlz_axR"
      },
      "execution_count": null,
      "outputs": []
    },
    {
      "cell_type": "markdown",
      "source": [],
      "metadata": {
        "id": "Z5w1Egk7CgYT"
      }
    },
    {
      "cell_type": "code",
      "source": [
        "# Create a shopping list with three items\n",
        "shopping_list = ['Apples', 'Bananas', 'Milk']\n",
        "\n",
        "# Set the prices for each item\n",
        "prices = [1.99, 0.99, 2.50]\n",
        "\n",
        "# Display the shopping list with prices formatted as currency\n",
        "print(\"Shopping List:\")\n",
        "for i, item in enumerate(shopping_list):\n",
        "    print(f\"{i + 1}. {item}: ${prices[i]:.2f}\")"
      ],
      "metadata": {
        "id": "M4Wca83RBcZt",
        "outputId": "33fcb139-0d0f-4cb9-f51c-e7c74680b0b1",
        "colab": {
          "base_uri": "https://localhost:8080/"
        }
      },
      "execution_count": 24,
      "outputs": [
        {
          "output_type": "stream",
          "name": "stdout",
          "text": [
            "Shopping List:\n",
            "1. Apples: $1.99\n",
            "2. Bananas: $0.99\n",
            "3. Milk: $2.50\n"
          ]
        }
      ]
    },
    {
      "cell_type": "code",
      "source": [
        "# create a shopping list with 5 sports items\n",
        "items_list=[\"Ball\",\"Racket\",\"Shoes\",\"Bat\",\"shirt\"]\n",
        "print(items_list)\n",
        "# Set the price for each item\n",
        "\n",
        "prices=[75, 250, 490, 1200,350]\n",
        "\n",
        "# Display the shopping list with prices formatted as currency\n",
        "\n",
        "print(\"Items List\")\n",
        "\n",
        "for i, item in enumerate(items_list):\n",
        "  print(f\"{i+1}.{item}:Rs {prices[i]:.2f}\")"
      ],
      "metadata": {
        "colab": {
          "base_uri": "https://localhost:8080/"
        },
        "id": "tY5lftQcNSYO",
        "outputId": "977f4994-c256-4d2a-bb11-d4106dd7b71d"
      },
      "execution_count": 30,
      "outputs": [
        {
          "output_type": "stream",
          "name": "stdout",
          "text": [
            "['Ball', 'Racket', 'Shoes', 'Bat', 'shirt']\n",
            "Items List\n",
            "1.Ball:Rs 75.00\n",
            "2.Racket:Rs 250.00\n",
            "3.Shoes:Rs 490.00\n",
            "4.Bat:Rs 1200.00\n",
            "5.shirt:Rs 350.00\n"
          ]
        }
      ]
    },
    {
      "cell_type": "markdown",
      "source": [
        "# Conditional statements (if, elif, else):\n",
        "# Example: Checking if a number is positive, negative, or zero.\n"
      ],
      "metadata": {
        "id": "0fAieuVuP6I4"
      }
    },
    {
      "cell_type": "code",
      "source": [
        "num=int(input(\"Enter a number\"))\n",
        "\n",
        "if num>0:\n",
        "    print(\"num is positive\")\n",
        "elif num <0:\n",
        "    print(\"num is negative\")\n",
        "\n",
        "else:\n",
        "      print(\"The number is zero\")"
      ],
      "metadata": {
        "colab": {
          "base_uri": "https://localhost:8080/"
        },
        "id": "3q0lJug8P9Rx",
        "outputId": "ebb83736-26e0-4361-f58a-81aabc55ac6e"
      },
      "execution_count": 44,
      "outputs": [
        {
          "output_type": "stream",
          "name": "stdout",
          "text": [
            "Enter a number-8\n",
            "num is negative\n"
          ]
        }
      ]
    },
    {
      "cell_type": "code",
      "source": [],
      "metadata": {
        "id": "P_JtRhMnNNZC"
      },
      "execution_count": null,
      "outputs": []
    }
  ]
}